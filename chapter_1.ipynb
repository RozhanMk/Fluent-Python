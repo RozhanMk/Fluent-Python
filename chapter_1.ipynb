{
 "cells": [
  {
   "cell_type": "code",
   "execution_count": null,
   "id": "accc0b80",
   "metadata": {},
   "outputs": [
    {
     "data": {
      "text/plain": [
       "User(username='rojan', email='sth@gmail.com', active=True)"
      ]
     },
     "execution_count": 1,
     "metadata": {},
     "output_type": "execute_result"
    }
   ],
   "source": [
    "# PRACTICE 1: Smart __repr__ for Debugging / Logging\n",
    "\n",
    "class User:\n",
    "\n",
    "    def __init__(self, username: str, email: str, is_active: bool):\n",
    "        self.username = username\n",
    "        self.email = email\n",
    "        self.is_active = is_active\n",
    "\n",
    "    def __repr__(self):\n",
    "        return f\"User(username={self.username!r}, email={self.email!r}, active={self.is_active!r})\"\n",
    "\n",
    "user1 = User(username=\"rojan\", email=\"sth@gmail.com\", is_active=True)\n",
    "\n",
    "\n",
    "user1"
   ]
  },
  {
   "cell_type": "code",
   "execution_count": null,
   "id": "284dd24d",
   "metadata": {},
   "outputs": [
    {
     "name": "stdout",
     "output_type": "stream",
     "text": [
      "application/json\n",
      "True\n"
     ]
    }
   ],
   "source": [
    "# PRACTICE 2: API-like Object with __getitem__ and __contains__\n",
    "\n",
    "class Headers:\n",
    "  def __init__(self, headers:dict):\n",
    "    self._headers = headers\n",
    "\n",
    "  def __getitem__(self, key):\n",
    "    return self._headers[key]\n",
    "\n",
    "  def __contains__(self, key):\n",
    "    return key in self._headers\n",
    "  \n",
    "h = Headers({'Content-Type': 'application/json', 'Accept': 'text/html'})\n",
    "print(h['Content-Type'])     # application/json\n",
    "print('Accept' in h)         # True"
   ]
  },
  {
   "cell_type": "code",
   "execution_count": null,
   "id": "a59c4568",
   "metadata": {},
   "outputs": [
    {
     "name": "stdout",
     "output_type": "stream",
     "text": [
      "prod\n",
      "2\n",
      "db\n",
      "debug\n"
     ]
    }
   ],
   "source": [
    "# PRACTICE 3: Config Object with __len__, __iter__, __getitem__\n",
    "\n",
    "class Config:\n",
    "    def __init__(self, settings:dict):\n",
    "        self._secret = settings.pop(\"_secret\")\n",
    "        self.settings = settings\n",
    "    \n",
    "    def __len__(self):\n",
    "        return len(self.settings)\n",
    "    \n",
    "    def __getitem__(self, key):\n",
    "        return self.settings[key]\n",
    "    \n",
    "    def __iter__(self):\n",
    "        return iter(self.settings)\n",
    "    \n",
    "cfg = Config({\"db\": \"prod\", \"debug\": False, \"_secret\": \"xyz\"})\n",
    "print(cfg[\"db\"])        # \"prod\"\n",
    "print(len(cfg))         # 2 (doesn't count _secret)\n",
    "for key in cfg:\n",
    "    print(key)          # db, debug"
   ]
  },
  {
   "cell_type": "code",
   "execution_count": null,
   "id": "22b657da",
   "metadata": {},
   "outputs": [
    {
     "name": "stdout",
     "output_type": "stream",
     "text": [
      "False\n",
      "{DatabaseConnection(host='localhost', port='8000'), DatabaseConnection(host='localhost', port='8001')}\n",
      "True\n",
      "{DatabaseConnection(host='localhost', port='8000')}\n"
     ]
    }
   ],
   "source": [
    "# PRACTICE 4: Object Equality and Caching\n",
    "\n",
    "class DatabaseConnection:\n",
    "    def __init__(self, host:str, port:str):\n",
    "        self.host = host\n",
    "        self.port = port\n",
    "\n",
    "    def __eq__(self, other):\n",
    "        return (isinstance(other, DatabaseConnection) and \n",
    "                self.host == other.host and self.port == other.port)\n",
    "    \n",
    "    def __hash__(self):\n",
    "        return hash((self.host, self.port))\n",
    "\n",
    "    def __repr__(self):\n",
    "        return f'DatabaseConnection(host={self.host!r}, port={self.port!r})'\n",
    "\n",
    "db = DatabaseConnection(host=\"localhost\", port=\"8000\")\n",
    "db2 = DatabaseConnection(host=\"localhost\", port=\"8001\")\n",
    "\n",
    "print(db == db2)\n",
    "print(set([db, db2]))\n",
    "\n",
    "db3 = DatabaseConnection(host=\"localhost\", port=\"8000\")\n",
    "\n",
    "print(db == db3)\n",
    "print(set([db, db3]))   # in set we cannot have duplicate items"
   ]
  },
  {
   "cell_type": "code",
   "execution_count": null,
   "id": "6e436de9",
   "metadata": {},
   "outputs": [
    {
     "name": "stdout",
     "output_type": "stream",
     "text": [
      "False\n",
      "Status.PENDING\n"
     ]
    }
   ],
   "source": [
    "# PRACTICE 5: Emulate an Enum for Readability\n",
    "\n",
    "class Status:\n",
    "\n",
    "    def __init__(self, name:str):\n",
    "        self.name = name\n",
    "\n",
    "    def __str__(self):\n",
    "        return self.name\n",
    "\n",
    "    def __repr__(self):\n",
    "        return f\"Status.{self.name}\"\n",
    "\n",
    "    def __eq__(self, other):\n",
    "        if isinstance(other, Status):\n",
    "            return self.name == other.name\n",
    "        return NotImplemented\n",
    "    \n",
    "Status.PENDING = Status(\"PENDING\")\n",
    "Status.SUCCESS = Status(\"SUCCESS\")\n",
    "\n",
    "print(Status.PENDING == Status.SUCCESS)\n",
    "print(repr(Status.PENDING))"
   ]
  },
  {
   "cell_type": "code",
   "execution_count": null,
   "id": "2ed75d25",
   "metadata": {},
   "outputs": [
    {
     "name": "stdout",
     "output_type": "stream",
     "text": [
      "3\n",
      "2\n",
      "1\n",
      "2\n",
      "3\n"
     ]
    }
   ],
   "source": [
    "# PRACTICE 6: Real Collection-Like Class (like a query result)\n",
    "\n",
    "class QueryResult:\n",
    "    def __init__(self, res):\n",
    "        self.res = tuple(res)\n",
    "\n",
    "    def __len__(self):\n",
    "        return len(self.res)\n",
    "    \n",
    "    def __getitem__(self, i):\n",
    "        return self.res[i]\n",
    "    \n",
    "    def __iter__(self):\n",
    "        return iter(self.res)\n",
    "    \n",
    "queryres = QueryResult([1, 2, 3])\n",
    "print(len(queryres))\n",
    "print(queryres[1])\n",
    "for row in queryres:\n",
    "    print(row)\n"
   ]
  }
 ],
 "metadata": {
  "kernelspec": {
   "display_name": "Python 3",
   "language": "python",
   "name": "python3"
  },
  "language_info": {
   "codemirror_mode": {
    "name": "ipython",
    "version": 3
   },
   "file_extension": ".py",
   "mimetype": "text/x-python",
   "name": "python",
   "nbconvert_exporter": "python",
   "pygments_lexer": "ipython3",
   "version": "3.10.6"
  }
 },
 "nbformat": 4,
 "nbformat_minor": 5
}
