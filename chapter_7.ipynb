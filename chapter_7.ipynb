{
 "cells": [
  {
   "cell_type": "markdown",
   "id": "4b198de2",
   "metadata": {},
   "source": [
    "## Higher-Order Functions\n",
    " A function that takes a function as an argument or returns a function as the result is a\n",
    " higher-order function.\n",
    "\n",
    " Functional languages commonly offer the map, filter, and reduce higher-order\n",
    " functions (sometimes with different names). The map and filter functions are still\n",
    " built-ins in Python 3, but since the introduction of list comprehensions and genera\n",
    "tor expressions, they are not as important."
   ]
  },
  {
   "cell_type": "code",
   "execution_count": 1,
   "id": "f6b94405",
   "metadata": {},
   "outputs": [
    {
     "data": {
      "text/plain": [
       "[1, 6, 120]"
      ]
     },
     "execution_count": 1,
     "metadata": {},
     "output_type": "execute_result"
    }
   ],
   "source": [
    "def factorial(n):    \n",
    "    return 1 if n < 2 else n * factorial(n - 1)\n",
    "\n",
    "list(map(factorial, filter(lambda n: n % 2, range(6))))  "
   ]
  },
  {
   "cell_type": "code",
   "execution_count": 2,
   "id": "344e6e49",
   "metadata": {},
   "outputs": [
    {
     "data": {
      "text/plain": [
       "[1, 6, 120]"
      ]
     },
     "execution_count": 2,
     "metadata": {},
     "output_type": "execute_result"
    }
   ],
   "source": [
    "[factorial(n) for n in range(6) if n % 2]"
   ]
  },
  {
   "cell_type": "code",
   "execution_count": null,
   "id": "3a0290e5",
   "metadata": {},
   "outputs": [
    {
     "data": {
      "text/plain": [
       "4950"
      ]
     },
     "execution_count": 3,
     "metadata": {},
     "output_type": "execute_result"
    }
   ],
   "source": [
    "from functools import reduce  \n",
    "from operator import add\n",
    "# The operator module provides function equivalents for dozens of operators so you\n",
    "# don’t have to code trivial functions like lambda a, b: a*b\n",
    "reduce(add, range(100))"
   ]
  },
  {
   "cell_type": "code",
   "execution_count": 5,
   "id": "6aa07a81",
   "metadata": {},
   "outputs": [
    {
     "data": {
      "text/plain": [
       "4950"
      ]
     },
     "execution_count": 5,
     "metadata": {},
     "output_type": "execute_result"
    }
   ],
   "source": [
    "# Same task with sum—no need to import and call reduce and add.\n",
    "sum(range(100)) "
   ]
  },
  {
   "cell_type": "markdown",
   "id": "b1dd1a11",
   "metadata": {},
   "source": [
    "# Anonymous functions\n",
    "The best use of anonymous functions is in the context of an argument list for a\n",
    " higher-order function.\n",
    "\n",
    " "
   ]
  },
  {
   "cell_type": "code",
   "execution_count": 6,
   "id": "81dc2571",
   "metadata": {},
   "outputs": [
    {
     "name": "stdout",
     "output_type": "stream",
     "text": [
      "['kiwi', 'apple', 'banana']\n"
     ]
    }
   ],
   "source": [
    "words = [\"banana\", \"kiwi\", \"apple\"]\n",
    "words.sort(key=lambda word: len(word))\n",
    "print(words)"
   ]
  },
  {
   "cell_type": "markdown",
   "id": "f38d52e9",
   "metadata": {},
   "source": [
    "##  Positional to Keyword-Only Parameters"
   ]
  },
  {
   "cell_type": "code",
   "execution_count": 7,
   "id": "6e5bdf6a",
   "metadata": {},
   "outputs": [
    {
     "data": {
      "text/plain": [
       "'<p id=\"33\">hello</p>'"
      ]
     },
     "execution_count": 7,
     "metadata": {},
     "output_type": "execute_result"
    }
   ],
   "source": [
    "def tag(name, *content, class_=None, **attrs):\n",
    "    \"\"\"Generate one or more HTML tags\"\"\"\n",
    "    if class_ is not None:\n",
    "        attrs['class'] = class_\n",
    "    attr_pairs = (f' {attr}=\"{value}\"' for attr, value\n",
    "                    in sorted(attrs.items()))\n",
    "    attr_str = ''.join(attr_pairs)\n",
    "    if content:\n",
    "        elements = (f'<{name}{attr_str}>{c}</{name}>'\n",
    "                    for c in content)\n",
    "        return '\\n'.join(elements)\n",
    "    else:\n",
    "        return f'<{name}{attr_str} />'\n",
    "    \n",
    "tag('p', 'hello', id=33)"
   ]
  },
  {
   "cell_type": "code",
   "execution_count": 8,
   "id": "46d0cdb0",
   "metadata": {},
   "outputs": [
    {
     "data": {
      "text/plain": [
       "'<img class=\"framed\" src=\"sunset.jpg\" title=\"Sunset Boulevard\" />'"
      ]
     },
     "execution_count": 8,
     "metadata": {},
     "output_type": "execute_result"
    }
   ],
   "source": [
    "my_tag = {'name': 'img', 'title': 'Sunset Boulevard',\n",
    "'src': 'sunset.jpg', 'class': 'framed'}\n",
    "\n",
    "tag(**my_tag)"
   ]
  },
  {
   "cell_type": "markdown",
   "id": "9f08920d",
   "metadata": {},
   "source": [
    "## Operator library\n",
    "itemgetter(1) creates a function that, given a collection, returns the\n",
    "item at index 1. "
   ]
  },
  {
   "cell_type": "code",
   "execution_count": null,
   "id": "cb3b1dfb",
   "metadata": {},
   "outputs": [],
   "source": [
    "metro_data = [\n",
    "    ('Tokyo', 'JP', 36.933, (35.689722, 139.691667)),\n",
    "    ('Delhi NCR', 'IN', 21.935, (28.613889, 77.208889)),\n",
    "    ('Mexico City', 'MX', 20.142, (19.433333, -99.133333)),\n",
    "    ('New York-Newark', 'US', 20.104, (40.808611, -74.020386)),\n",
    "    ('São Paulo', 'BR', 19.649, (-23.547778, -46.635833)),\n",
    "]\n",
    "\n",
    "from operator import itemgetter\n",
    "\n",
    "for city in sorted(metro_data, key=itemgetter(1)):\n",
    "    print(city)"
   ]
  }
 ],
 "metadata": {
  "kernelspec": {
   "display_name": "Python 3",
   "language": "python",
   "name": "python3"
  },
  "language_info": {
   "codemirror_mode": {
    "name": "ipython",
    "version": 3
   },
   "file_extension": ".py",
   "mimetype": "text/x-python",
   "name": "python",
   "nbconvert_exporter": "python",
   "pygments_lexer": "ipython3",
   "version": "3.10.6"
  }
 },
 "nbformat": 4,
 "nbformat_minor": 5
}
