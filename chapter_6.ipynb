{
 "cells": [
  {
   "cell_type": "markdown",
   "id": "763b5e01",
   "metadata": {},
   "source": [
    "## Call by sharing\n",
    "Function parameters are passed as aliases, which means the function may change\n",
    " any mutable object received as an argument. There is no way to prevent this,\n",
    " except making local copies or using immutable objects"
   ]
  },
  {
   "cell_type": "code",
   "execution_count": 7,
   "id": "63e01ca2",
   "metadata": {},
   "outputs": [
    {
     "name": "stdout",
     "output_type": "stream",
     "text": [
      "[1, 2, 3, 42]\n"
     ]
    }
   ],
   "source": [
    "def append_item(my_list):\n",
    "    my_list.append(42)  # modifies the original list\n",
    "\n",
    "numbers = [1, 2, 3]\n",
    "append_item(numbers)\n",
    "print(numbers)  # Output: [1, 2, 3, 42]"
   ]
  },
  {
   "cell_type": "code",
   "execution_count": 6,
   "id": "4ca939a1",
   "metadata": {},
   "outputs": [
    {
     "name": "stdout",
     "output_type": "stream",
     "text": [
      "[1, 2, 3]\n",
      "[1, 2, 3, 42]\n"
     ]
    }
   ],
   "source": [
    "# How to prevent it? By making a local copy\n",
    "def append_item_safely(my_list):\n",
    "    my_copy = my_list[:]  # make a shallow copy\n",
    "    my_copy.append(42)\n",
    "    return my_copy\n",
    "\n",
    "numbers = [1, 2, 3]\n",
    "new_numbers = append_item_safely(numbers)\n",
    "print(numbers)       # Output: [1, 2, 3] (original unchanged)\n",
    "print(new_numbers)   # Output: [1, 2, 3, 42]\n"
   ]
  },
  {
   "cell_type": "markdown",
   "id": "5dbf00fa",
   "metadata": {},
   "source": [
    "## Shallow copy vs Deep copy"
   ]
  },
  {
   "cell_type": "code",
   "execution_count": 5,
   "id": "a4dc9329",
   "metadata": {},
   "outputs": [
    {
     "name": "stdout",
     "output_type": "stream",
     "text": [
      "[[99, 2], [3, 4]]\n"
     ]
    }
   ],
   "source": [
    "import copy\n",
    "\n",
    "original = [[1, 2], [3, 4]]\n",
    "shallow = copy.copy(original)\n",
    "\n",
    "shallow[0][0] = 99\n",
    "print(original)  # [[99, 2], [3, 4]]  modified!"
   ]
  },
  {
   "cell_type": "code",
   "execution_count": 4,
   "id": "795761a5",
   "metadata": {},
   "outputs": [
    {
     "name": "stdout",
     "output_type": "stream",
     "text": [
      "[[1, 2], [3, 4]]\n"
     ]
    }
   ],
   "source": [
    "import copy\n",
    "\n",
    "original = [[1, 2], [3, 4]]\n",
    "deep = copy.deepcopy(original)\n",
    "\n",
    "deep[0][0] = 99\n",
    "print(original)  # [[1, 2], [3, 4]]  unchanged"
   ]
  },
  {
   "cell_type": "markdown",
   "id": "d6cd4f80",
   "metadata": {},
   "source": [
    "## Mutable default arguments\n",
    "Using mutable objects as default values for function parameters is dangerous\n",
    " because if the parameters are changed in place, then the default is changed,\n",
    " affecting every future call that relies on the default."
   ]
  },
  {
   "cell_type": "code",
   "execution_count": 3,
   "id": "fa217f85",
   "metadata": {},
   "outputs": [
    {
     "name": "stdout",
     "output_type": "stream",
     "text": [
      "[1]\n",
      "[1, 2]\n",
      "[1, 2, 3]\n"
     ]
    }
   ],
   "source": [
    "def add_item(item, items=[]):  #  mutable default!\n",
    "    items.append(item)\n",
    "    return items\n",
    "\n",
    "print(add_item(1))  # [1]\n",
    "print(add_item(2))  # [1, 2] unexpected!\n",
    "print(add_item(3))  # [1, 2, 3] grows each time"
   ]
  },
  {
   "cell_type": "markdown",
   "id": "faa1a4f5",
   "metadata": {},
   "source": [
    "Python evaluates default argument values only once, when the def statement runs. So a mutable object like [] is created once and reused on every call that doesn't pass a new argument."
   ]
  },
  {
   "cell_type": "code",
   "execution_count": 2,
   "id": "d00f38b3",
   "metadata": {},
   "outputs": [
    {
     "name": "stdout",
     "output_type": "stream",
     "text": [
      "[1]\n",
      "[2]\n",
      "[3]\n"
     ]
    }
   ],
   "source": [
    "# Correct way: Use None as default\n",
    "\n",
    "def add_item(item, items=None):\n",
    "    if items is None:\n",
    "        items = []\n",
    "    items.append(item)\n",
    "    return items\n",
    "\n",
    "print(add_item(1))  # [1]\n",
    "print(add_item(2))  # [2]  behaves correctly\n",
    "print(add_item(3))  # [3]"
   ]
  },
  {
   "cell_type": "markdown",
   "id": "e69080f0",
   "metadata": {},
   "source": [
    "## is VS ==\n",
    " The == operator compares the values of objects (the data they hold), while is com\n",
    "pares their identities.\n",
    "\n",
    "By far, the most common case is checking whether a variable is bound to None.\n",
    "\n",
    "The is operator is faster than ==, because it cannot be overloaded, so Python does\n",
    " not have to find and invoke special methods to evaluate it, and computing is as sim\n",
    "ple as comparing two integer IDs. In contrast, a == b is syntactic sugar for\n",
    " a.__eq__(b)."
   ]
  },
  {
   "cell_type": "code",
   "execution_count": 1,
   "id": "14ba934d",
   "metadata": {},
   "outputs": [
    {
     "name": "stdout",
     "output_type": "stream",
     "text": [
      "True\n",
      "False\n",
      "True\n"
     ]
    }
   ],
   "source": [
    "a = [1, 2, 3]\n",
    "b = [1, 2, 3]\n",
    "c = a\n",
    "\n",
    "print(a == b)  # True: same contents\n",
    "print(a is b)  # False: different objects\n",
    "\n",
    "print(a is c)  # True: same object (same memory address)"
   ]
  },
  {
   "cell_type": "code",
   "execution_count": null,
   "id": "ce805dfd",
   "metadata": {},
   "outputs": [],
   "source": []
  }
 ],
 "metadata": {
  "kernelspec": {
   "display_name": "Python 3",
   "language": "python",
   "name": "python3"
  },
  "language_info": {
   "codemirror_mode": {
    "name": "ipython",
    "version": 3
   },
   "file_extension": ".py",
   "mimetype": "text/x-python",
   "name": "python",
   "nbconvert_exporter": "python",
   "pygments_lexer": "ipython3",
   "version": "3.10.6"
  }
 },
 "nbformat": 4,
 "nbformat_minor": 5
}
