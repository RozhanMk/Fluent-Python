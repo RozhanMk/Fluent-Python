{
 "cells": [
  {
   "cell_type": "markdown",
   "id": "f19ac3f4",
   "metadata": {},
   "source": [
    "## Data classes\n",
    "introduced in Python 3.7 via PEP 557, are decorator and functions for creating classes primarily to store data.\n",
    "\n",
    "Data Class Builders in Python:\n",
    "\n",
    "Automatically provide essential methods:\n",
    "\n",
    "__init__\n",
    "\n",
    "__repr__\n",
    "\n",
    "__eq__"
   ]
  },
  {
   "cell_type": "code",
   "execution_count": 1,
   "id": "9117b2b0",
   "metadata": {},
   "outputs": [
    {
     "data": {
      "text/plain": [
       "City(name='Tokyo', country='JP', population=36.933, coordinates=(35.689722, 139.691667))"
      ]
     },
     "execution_count": 1,
     "metadata": {},
     "output_type": "execute_result"
    }
   ],
   "source": [
    "# Example 5-4. Defining and using a named tuple type\n",
    "from collections import namedtuple\n",
    "\n",
    "# Two parameters are required to create a named tuple: a class name and a list of field names\n",
    "# As a tuple subclass, City inherits useful methods such as __eq__ and __lt__\n",
    "City = namedtuple('City', 'name country population coordinates')\n",
    "\n",
    "tokyo = City('Tokyo', 'JP', 36.933, (35.689722, 139.691667))\n",
    "tokyo"
   ]
  },
  {
   "cell_type": "code",
   "execution_count": 2,
   "id": "fe84640e",
   "metadata": {},
   "outputs": [
    {
     "data": {
      "text/plain": [
       "('name', 'country', 'population', 'coordinates')"
      ]
     },
     "execution_count": 2,
     "metadata": {},
     "output_type": "execute_result"
    }
   ],
   "source": [
    "City._fields"
   ]
  },
  {
   "cell_type": "code",
   "execution_count": 3,
   "id": "408fe339",
   "metadata": {},
   "outputs": [
    {
     "data": {
      "text/plain": [
       "{'name': 'Tokyo',\n",
       " 'country': 'JP',\n",
       " 'population': 36.933,\n",
       " 'coordinates': (35.689722, 139.691667)}"
      ]
     },
     "execution_count": 3,
     "metadata": {},
     "output_type": "execute_result"
    }
   ],
   "source": [
    "tokyo._asdict()"
   ]
  },
  {
   "cell_type": "code",
   "execution_count": 5,
   "id": "d2ec522f",
   "metadata": {},
   "outputs": [
    {
     "data": {
      "text/plain": [
       "'{\"name\": \"Tokyo\", \"country\": \"JP\", \"population\": 36.933, \"coordinates\": [35.689722, 139.691667]}'"
      ]
     },
     "execution_count": 5,
     "metadata": {},
     "output_type": "execute_result"
    }
   ],
   "source": [
    "import json\n",
    "json.dumps(tokyo._asdict())"
   ]
  },
  {
   "cell_type": "markdown",
   "id": "1eb88f6a",
   "metadata": {},
   "source": [
    "## Typed Named Tuples\n",
    "Provides static type checks when used with tools like mypy.\n",
    "\n",
    "Supports adding custom methods."
   ]
  },
  {
   "cell_type": "code",
   "execution_count": null,
   "id": "5e97ed47",
   "metadata": {},
   "outputs": [],
   "source": [
    "from typing import NamedTuple\n",
    "\n",
    "class Coordinate(NamedTuple):  # Coordinate not inherits from the NamedTuple class\n",
    "    lat: float\n",
    "    lon: float\n",
    "\n",
    "    def __str__(self):\n",
    "        ns = 'N' if self.lat >= 0 else 'S'\n",
    "        ew = 'E' if self.lon >= 0 else 'W'\n",
    "        return f\"{abs(self.lat):.1f}°{ns}, {abs(self.lon):.1f}°{ew}\""
   ]
  },
  {
   "cell_type": "markdown",
   "id": "4505e839",
   "metadata": {},
   "source": [
    "## Dataclass decorator"
   ]
  },
  {
   "cell_type": "code",
   "execution_count": 1,
   "id": "fc56648d",
   "metadata": {},
   "outputs": [
    {
     "data": {
      "text/plain": [
       "{'a': int, 'b': float}"
      ]
     },
     "execution_count": 1,
     "metadata": {},
     "output_type": "execute_result"
    }
   ],
   "source": [
    "from dataclasses import dataclass\n",
    "\n",
    "@dataclass\n",
    "class DemoDataClass:\n",
    "    a: int         # an annotation and also an instance attribute controlled by a descriptor.\n",
    "    b: float = 1.1  # an annotation, and also becomes an instance attribute with a descriptor and a default value 1.1\n",
    "    c = 'spam'     # c is just a plain old class attribute; no annotation will refer to it.\n",
    "\n",
    "DemoDataClass.__annotations__"
   ]
  },
  {
   "cell_type": "code",
   "execution_count": 10,
   "id": "528ba05a",
   "metadata": {},
   "outputs": [
    {
     "ename": "AttributeError",
     "evalue": "type object 'DemoDataClass' has no attribute 'a'",
     "output_type": "error",
     "traceback": [
      "\u001b[1;31m---------------------------------------------------------------------------\u001b[0m",
      "\u001b[1;31mAttributeError\u001b[0m                            Traceback (most recent call last)",
      "Cell \u001b[1;32mIn[10], line 1\u001b[0m\n\u001b[1;32m----> 1\u001b[0m \u001b[43mDemoDataClass\u001b[49m\u001b[38;5;241;43m.\u001b[39;49m\u001b[43ma\u001b[49m \u001b[38;5;66;03m# a attribute only exist in instances of DemoDataClass\u001b[39;00m\n",
      "\u001b[1;31mAttributeError\u001b[0m: type object 'DemoDataClass' has no attribute 'a'"
     ]
    }
   ],
   "source": [
    "DemoDataClass.a # a attribute only exist in instances of DemoDataClass"
   ]
  },
  {
   "cell_type": "code",
   "execution_count": 11,
   "id": "8121daba",
   "metadata": {},
   "outputs": [
    {
     "data": {
      "text/plain": [
       "(1.1, 'spam')"
      ]
     },
     "execution_count": 11,
     "metadata": {},
     "output_type": "execute_result"
    }
   ],
   "source": [
    "DemoDataClass.b , DemoDataClass.c"
   ]
  },
  {
   "cell_type": "code",
   "execution_count": 4,
   "id": "c5f83806",
   "metadata": {},
   "outputs": [
    {
     "name": "stdout",
     "output_type": "stream",
     "text": [
      "9\n",
      "1.1\n",
      "spam\n"
     ]
    }
   ],
   "source": [
    "dc = DemoDataClass(9)  # a and b are instance attributes, and c is a class attribute we get via the instance.\n",
    "print(dc.a)\n",
    "print(dc.b)\n",
    "print(dc.c)"
   ]
  },
  {
   "cell_type": "markdown",
   "id": "8ccbed14",
   "metadata": {},
   "source": [
    "## Keyword class patterns"
   ]
  },
  {
   "cell_type": "code",
   "execution_count": 1,
   "id": "2ff8846a",
   "metadata": {},
   "outputs": [
    {
     "name": "stdout",
     "output_type": "stream",
     "text": [
      "[City(continent='Asia', name='Tokyo', country='JP'), City(continent='Asia', name='Delhi', country='IN')]\n"
     ]
    }
   ],
   "source": [
    "import typing\n",
    "\n",
    "class City(typing.NamedTuple):\n",
    "    continent: str\n",
    "    name: str\n",
    "    country: str\n",
    "\n",
    "cities = [\n",
    "    City('Asia', 'Tokyo', 'JP'),\n",
    "    City('Asia', 'Delhi', 'IN'),\n",
    "    City('North America', 'Mexico City', 'MX'),\n",
    "    City('North America', 'New York', 'US'),\n",
    "    City('South America', 'São Paulo', 'BR'),\n",
    "]\n",
    "\n",
    "def match_asian_cities():\n",
    "    results = []\n",
    "    for city in cities:\n",
    "        match city:\n",
    "            case City(continent='Asia'):\n",
    "                results.append(city)\n",
    "    return results\n",
    "\n",
    "print(match_asian_cities())"
   ]
  },
  {
   "cell_type": "code",
   "execution_count": null,
   "id": "4c4143d7",
   "metadata": {},
   "outputs": [],
   "source": []
  }
 ],
 "metadata": {
  "kernelspec": {
   "display_name": "Python 3",
   "language": "python",
   "name": "python3"
  },
  "language_info": {
   "codemirror_mode": {
    "name": "ipython",
    "version": 3
   },
   "file_extension": ".py",
   "mimetype": "text/x-python",
   "name": "python",
   "nbconvert_exporter": "python",
   "pygments_lexer": "ipython3",
   "version": "3.10.6"
  }
 },
 "nbformat": 4,
 "nbformat_minor": 5
}
