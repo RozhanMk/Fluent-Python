{
 "cells": [
  {
   "cell_type": "markdown",
   "id": "4b6a712a",
   "metadata": {},
   "source": [
    "A container sequence holds references to the objects it contains, which may be of any\n",
    "type, while a flat sequence stores the value of its contents in its own memory space,\n",
    "not as distinct Python objects.\n",
    "\n",
    "container sequence = list, tuple, and collections.deque\n",
    "\n",
    "flat sequence = str, bytes, and array.array"
   ]
  },
  {
   "cell_type": "markdown",
   "id": "bf1515a8",
   "metadata": {},
   "source": [
    "Mutable sequences\n",
    "\n",
    "    For example, list, bytearray, array.array, and collections.deque.\n",
    "\n",
    "Immutable sequences\n",
    "\n",
    "    For example, tuple, str, and bytes."
   ]
  },
  {
   "cell_type": "code",
   "execution_count": 23,
   "id": "34667856",
   "metadata": {},
   "outputs": [
    {
     "name": "stdout",
     "output_type": "stream",
     "text": [
      "True\n",
      "False\n"
     ]
    }
   ],
   "source": [
    "from collections import abc\n",
    "def is_flat(seq):\n",
    "    \"\"\"\n",
    "    Return True if seq is flat (no nested sequences), False otherwise.\n",
    "    Ex: is_flat([1, 2, 3]) -> True\n",
    "        is_flat([1, [2, 3]]) -> False\n",
    "    \"\"\"\n",
    "    for s in seq:\n",
    "        if issubclass(type(s), abc.Sequence):\n",
    "            return False\n",
    "    return True\n",
    "\n",
    "print(is_flat([1, 2, 3]))\n",
    "print(is_flat([1, [2, 3]]))"
   ]
  },
  {
   "cell_type": "markdown",
   "id": "47ddb7a2",
   "metadata": {},
   "source": [
    "## Generators\n",
    "Listcomps do everything the map and filter functions do, without the contortions of\n",
    "the functionally challenged Python lambda\n",
    "\n",
    "\n",
    "To initialize tuples, arrays, and other types of sequences, you could also start from a\n",
    "listcomp, but a genexp (generator expression) saves memory because it yields items\n",
    "one by one using the iterator protocol instead of building a whole list just to feed\n",
    "another constructor.\n",
    "Genexps use the same syntax as listcomps, but are enclosed in parentheses rather\n",
    "than brackets."
   ]
  },
  {
   "cell_type": "code",
   "execution_count": null,
   "id": "5c3f0822",
   "metadata": {},
   "outputs": [],
   "source": [
    "colors = ['black', 'white']\n",
    "sizes = ['S', 'M', 'L']\n",
    "for tshirt in (f'{c} {s}' for c in colors for s in sizes): \n",
    "    print(tshirt)"
   ]
  },
  {
   "cell_type": "code",
   "execution_count": null,
   "id": "de596acf",
   "metadata": {},
   "outputs": [],
   "source": [
    "import sys\n",
    "\n",
    "# This will likely fail due to high memory usage!\n",
    "def sum_with_list_comprehension():\n",
    "    # This line creates a massive list in memory\n",
    "    all_squares = [x*x for x in range(1_000_000_000) if x % 7 == 0]\n",
    "    return sum(all_squares)\n",
    "\n",
    "# This is the efficient way\n",
    "def sum_with_generator_expression():\n",
    "    # This creates a generator that yields values one by one\n",
    "    all_squares_gen = (x*x for x in range(1_000_000_000) if x % 7 == 0)\n",
    "    return sum(all_squares_gen)\n",
    "\n",
    "\n",
    "print(\"Running with generator expression (this will take a moment but should not crash)...\")\n",
    "result = sum_with_generator_expression()\n",
    "print(f\"Result: {result}\")\n",
    "\n",
    "# print(\"\\nRunning with list comprehension (be prepared for high memory usage)...\")\n",
    "# result = sum_with_list_comprehension() # This will likely cause a MemoryError\n",
    "# print(f\"Result: {result}\")"
   ]
  },
  {
   "cell_type": "code",
   "execution_count": 22,
   "id": "5b350772",
   "metadata": {},
   "outputs": [
    {
     "data": {
      "text/plain": [
       "11.5"
      ]
     },
     "execution_count": 22,
     "metadata": {},
     "output_type": "execute_result"
    }
   ],
   "source": [
    "def sum_numeric(data):\n",
    "    \"\"\"\n",
    "    Given a mixed list of items, return the sum of all numeric values.\n",
    "    Use a generator expression\n",
    "    \"\"\"\n",
    "    # Example: [1, \"2\", 3.5, None, 7] → 11.5\n",
    "    return sum(\n",
    "        x for x in data if isinstance(x, (int, float))\n",
    "    )\n",
    "\n",
    "sum_numeric([1, \"2\", 3.5, None, 7])"
   ]
  },
  {
   "cell_type": "markdown",
   "id": "e64fd4c8",
   "metadata": {},
   "source": [
    "## Augmented Assignment"
   ]
  },
  {
   "cell_type": "code",
   "execution_count": null,
   "id": "8716d75e",
   "metadata": {},
   "outputs": [
    {
     "name": "stdout",
     "output_type": "stream",
     "text": [
      "[['oops'], ['oops'], ['oops']]\n"
     ]
    }
   ],
   "source": [
    "def demonstrate_bug():\n",
    "    list1 = [[]] * 3\n",
    "    list1[0].append(\"oops\")\n",
    "    print(list1)  \n",
    "\n",
    "demonstrate_bug()\n",
    "# Because all 3 inner lists are references to the same list object."
   ]
  },
  {
   "cell_type": "code",
   "execution_count": 10,
   "id": "fb547fe9",
   "metadata": {},
   "outputs": [
    {
     "name": "stdout",
     "output_type": "stream",
     "text": [
      "['_', '_', '_']\n",
      "['_', 'X', '_']\n",
      "['_', '_', '_']\n"
     ]
    }
   ],
   "source": [
    "# Create a 3x3 grid initialized with \"_\"\n",
    "# Then set grid[1][1] = \"X\"\n",
    "# Print it row by row\n",
    "grid = [[\"_\"] * 3 for _ in range(3)]\n",
    "grid[1][1] = \"X\"\n",
    "for i in range(3):\n",
    "    print(grid[i][:])"
   ]
  },
  {
   "cell_type": "markdown",
   "id": "c232f5bb",
   "metadata": {},
   "source": [
    "## Pattern matching"
   ]
  },
  {
   "cell_type": "code",
   "execution_count": 11,
   "id": "5d035f37",
   "metadata": {},
   "outputs": [
    {
     "data": {
      "text/plain": [
       "'$'"
      ]
     },
     "execution_count": 11,
     "metadata": {},
     "output_type": "execute_result"
    }
   ],
   "source": [
    "def detect_currency(data):\n",
    "    \"\"\"\n",
    "    Use match-case to return the currency symbol based on country code.\n",
    "    Example:\n",
    "    \"IR\" → \"﷼\", \"US\" → \"$\", \"EU\" → \"€\", etc.\n",
    "    Use a default case for unknown codes.\n",
    "    \"\"\"\n",
    "    match data:\n",
    "        case \"IR\":\n",
    "            return \"﷼\"\n",
    "        case \"US\":\n",
    "            return \"$\"\n",
    "        case \"EU\":\n",
    "            return \"€\"\n",
    "        case _:\n",
    "            raise TypeError\n",
    "        \n",
    "detect_currency(\"US\")"
   ]
  },
  {
   "cell_type": "markdown",
   "id": "954b5079",
   "metadata": {},
   "source": [
    "## Tuple unpacking"
   ]
  },
  {
   "cell_type": "code",
   "execution_count": 17,
   "id": "e4253cd4",
   "metadata": {},
   "outputs": [
    {
     "data": {
      "text/plain": [
       "[(3, 4, 5.0), (5, 0, 5.0)]"
      ]
     },
     "execution_count": 17,
     "metadata": {},
     "output_type": "execute_result"
    }
   ],
   "source": [
    "import math\n",
    "def normalize_coordinates(coords):\n",
    "    \"\"\"\n",
    "    Given a list of tuples (x, y), return a list of (x, y, distance_from_origin)\n",
    "    Use tuple unpacking in the loop.\n",
    "    \"\"\"\n",
    "    result = []\n",
    "    for x, y in coords:\n",
    "        result.append((x, y, math.sqrt(x ** 2 + y ** 2)))\n",
    "    return result\n",
    "    # Example input: [(3, 4), (0, 5)]\n",
    "    # Output: [(3, 4, 5.0), (0, 5, 5.0)]\n",
    "\n",
    "normalize_coordinates([(3, 4), (5, 0)])"
   ]
  },
  {
   "cell_type": "markdown",
   "id": "a2188b5f",
   "metadata": {},
   "source": [
    "## Bytecode inspection"
   ]
  },
  {
   "cell_type": "code",
   "execution_count": 18,
   "id": "41e03f5b",
   "metadata": {},
   "outputs": [
    {
     "name": "stdout",
     "output_type": "stream",
     "text": [
      "  2           0 BUILD_LIST               0\n",
      "              2 LOAD_CONST               1 ((1, 2, 3))\n",
      "              4 LIST_EXTEND              1\n",
      "              6 STORE_FAST               0 (x)\n",
      "\n",
      "  3           8 LOAD_FAST                0 (x)\n",
      "             10 LOAD_CONST               2 (4)\n",
      "             12 BUILD_LIST               1\n",
      "             14 INPLACE_ADD\n",
      "             16 STORE_FAST               0 (x)\n",
      "             18 LOAD_CONST               0 (None)\n",
      "             20 RETURN_VALUE\n"
     ]
    }
   ],
   "source": [
    "def bytecode_test():\n",
    "    x = [1, 2, 3]\n",
    "    x += [4]\n",
    "\n",
    "import dis\n",
    "dis.dis(bytecode_test)"
   ]
  },
  {
   "cell_type": "markdown",
   "id": "e2c73598",
   "metadata": {},
   "source": [
    "## Save and load efficiently using Array"
   ]
  },
  {
   "cell_type": "code",
   "execution_count": 20,
   "id": "147be7f4",
   "metadata": {},
   "outputs": [
    {
     "name": "stdout",
     "output_type": "stream",
     "text": [
      "999.0\n",
      "999.0\n"
     ]
    }
   ],
   "source": [
    "from array import array\n",
    "\n",
    "def save_array(filename):\n",
    "    \"\"\"\n",
    "    Create an array of 1000 floats and write it to a binary file.\n",
    "    \"\"\"\n",
    "    floats = array('d', (i for i in range(1000)))\n",
    "    with open(filename, \"wb\") as f:\n",
    "        floats.tofile(f)\n",
    "    return floats[-1]\n",
    "\n",
    "def load_array(filename):\n",
    "    \"\"\"\n",
    "    Read the array back using fromfile.\n",
    "    \"\"\"\n",
    "    floats = array('d')\n",
    "    with open(filename, \"rb\") as f:\n",
    "        floats.fromfile(f, 1000)\n",
    "    return floats[-1]\n",
    "\n",
    "print(save_array('floats.bin'))\n",
    "print(load_array('floats.bin'))"
   ]
  },
  {
   "cell_type": "markdown",
   "id": "806b6d46",
   "metadata": {},
   "source": [
    "The list type is flexible and easy to use, but depending on specific requirements,\n",
    "there are better options. For example, an **array** saves a lot of memory when you need\n",
    "to handle millions of floating-point values. On the other hand, if you are constantly\n",
    "adding and removing items from opposite ends of a list, it’s good to know that a\n",
    "**deque** (double-ended queue) is a more efficient FIFO14 data structure.\n",
    "If your code frequently checks whether an item is present in a col\n",
    "lection (e.g., item in my_collection), consider using a **set** for\n",
    "my_collection, especially if it holds a large number of items. Sets\n",
    "are optimized for fast membership checking."
   ]
  },
  {
   "cell_type": "markdown",
   "id": "07684ed6",
   "metadata": {},
   "source": []
  }
 ],
 "metadata": {
  "kernelspec": {
   "display_name": "Python 3",
   "language": "python",
   "name": "python3"
  },
  "language_info": {
   "codemirror_mode": {
    "name": "ipython",
    "version": 3
   },
   "file_extension": ".py",
   "mimetype": "text/x-python",
   "name": "python",
   "nbconvert_exporter": "python",
   "pygments_lexer": "ipython3",
   "version": "3.10.6"
  }
 },
 "nbformat": 4,
 "nbformat_minor": 5
}
