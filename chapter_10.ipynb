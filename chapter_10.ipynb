{
 "cells": [
  {
   "cell_type": "markdown",
   "id": "fa46a9d6",
   "metadata": {},
   "source": [
    "In software engineering, a design pattern is a general recipe for solving a common\n",
    " design problem.\n",
    "\n",
    "Although design patterns are language independent, that does not mean every pat\n",
    "tern applies to every language. For example, it doesn’t\n",
    "make sense to emulate the recipe of the Iterator pattern in Python, because the pat\n",
    "tern is embedded in the language and ready to use in the form of generators"
   ]
  },
  {
   "cell_type": "markdown",
   "id": "56817d1d",
   "metadata": {},
   "source": [
    "In particular, in the context of languages with first-class functions, Norvig (“Design Patterns in Dynamic Languages”, Peter Norvig, 1996 presentation) suggests rethinking the classic patterns known as **Strategy, Command, Template Method, and Visitor.**"
   ]
  },
  {
   "cell_type": "markdown",
   "id": "50718979",
   "metadata": {},
   "source": [
    "## Strategy method\n",
    "Context: Provides a service by delegating some computation to interchangeable components that implement alternative algorithms. In the ecommerce example, the context is an Order, which is configured to apply a promotional discount according to one of several algorithms.\n",
    "\n",
    "Strategy:The interface common to the components that implement the different algorithms. In our example, this role is played by an abstract class called Promotion.\n",
    "\n",
    "Concrete strategy: One of the concrete subclasses of Strategy. FidelityPromo, BulkPromo, and LargeOrderPromo are the three concrete strategies implemented."
   ]
  },
  {
   "cell_type": "code",
   "execution_count": 6,
   "id": "bc444663",
   "metadata": {},
   "outputs": [],
   "source": [
    "from abc import ABC, abstractmethod\n",
    "from collections.abc import Sequence\n",
    "from decimal import Decimal\n",
    "from typing import NamedTuple, Optional\n",
    "\n",
    "\n",
    "class Customer(NamedTuple):\n",
    "    name: str\n",
    "    fidelity: int\n",
    "\n",
    "\n",
    "class LineItem(NamedTuple):\n",
    "    product: str\n",
    "    quantity: int\n",
    "    price: Decimal\n",
    "\n",
    "    def total(self) -> Decimal:\n",
    "        return self.price * self.quantity\n",
    "\n",
    "\n",
    "class Order(NamedTuple):  # the Context\n",
    "    customer: Customer\n",
    "    cart: Sequence[LineItem]\n",
    "    promotion: Optional['Promotion'] = None # This means the promotion field can either be a Promotion object or None.\n",
    "\n",
    "    def total(self) -> Decimal:\n",
    "        totals = (item.total() for item in self.cart)\n",
    "        return sum(totals, start=Decimal(0))\n",
    "\n",
    "    def due(self) -> Decimal:\n",
    "        if self.promotion is None:\n",
    "            discount = Decimal(0)\n",
    "        else:\n",
    "            discount = self.promotion.discount(self)\n",
    "        return self.total() - discount\n",
    "\n",
    "    def __repr__(self):\n",
    "        return f'<Order total: {self.total():.2f} due: {self.due():.2f}>'\n",
    "\n",
    "\n",
    "# ABC: A base class that allows you to define abstract classes \n",
    "# (classes that are meant to be subclassed, not instantiated directly).\n",
    "class Promotion(ABC):  # the Strategy: an abstract base class\n",
    "    # A decorator that marks a method that must be implemented by any subclass.\n",
    "    @abstractmethod\n",
    "    def discount(self, order: Order) -> Decimal:\n",
    "        \"\"\"Return discount as a positive dollar amount\"\"\"\n",
    "\n",
    "\n",
    "class FidelityPromo(Promotion):  # first Concrete Strategy\n",
    "    \"\"\"5% discount for customers with 1000 or more fidelity points\"\"\"\n",
    "\n",
    "    def discount(self, order: Order) -> Decimal:\n",
    "        rate = Decimal('0.05')\n",
    "        if order.customer.fidelity >= 1000:\n",
    "            return order.total() * rate\n",
    "        return Decimal(0)\n",
    "\n",
    "\n",
    "class BulkItemPromo(Promotion):  # second Concrete Strategy\n",
    "    \"\"\"10% discount for each LineItem with 20 or more units\"\"\"\n",
    "\n",
    "    def discount(self, order: Order) -> Decimal:\n",
    "        discount = Decimal(0)\n",
    "        for item in order.cart:\n",
    "            if item.quantity >= 20:\n",
    "                discount += item.total() * Decimal('0.1')\n",
    "        return discount\n",
    "\n",
    "\n",
    "class LargeOrderPromo(Promotion):  # third Concrete Strategy\n",
    "    \"\"\"7% discount for orders with 10 or more distinct items\"\"\"\n",
    "\n",
    "    def discount(self, order: Order) -> Decimal:\n",
    "        distinct_items = {item.product for item in order.cart}\n",
    "        if len(distinct_items) >= 10:\n",
    "            return order.total() * Decimal('0.07')\n",
    "        return Decimal(0)"
   ]
  },
  {
   "cell_type": "code",
   "execution_count": 7,
   "id": "d27c7386",
   "metadata": {},
   "outputs": [
    {
     "data": {
      "text/plain": [
       "<Order total: 42.00 due: 42.00>"
      ]
     },
     "execution_count": 7,
     "metadata": {},
     "output_type": "execute_result"
    }
   ],
   "source": [
    "joe = Customer('John Doe', 0)\n",
    "ann = Customer('Ann Smith', 1100)\n",
    "cart = (LineItem('banana', 4, Decimal('.5')),\n",
    "    LineItem('apple', 10, Decimal('1.5')),\n",
    "    LineItem('watermelon', 5, Decimal(5)))\n",
    "# The FidelityPromo promotion gives no discount to joe.\n",
    "Order(joe, cart, FidelityPromo())"
   ]
  },
  {
   "cell_type": "markdown",
   "id": "b245fb49",
   "metadata": {},
   "source": [
    "Often concrete strategies have no internal state; they only deal with data from the context. If that is the case, then by all means use plain old functions instead of coding single-method classes implementing a single-method interface declared in yet another class. A function is more lightweight than an instance of a user-defined class, and there is no need for Flyweight because each strategy function is created just once per Python process when it loads the module. A plain function is also “a shared object that can be used in multiple contexts simultaneously."
   ]
  },
  {
   "cell_type": "markdown",
   "id": "db6e0ae7",
   "metadata": {},
   "source": [
    "## Function-Oriented Strategy\n",
    " replacing the concrete strategies with simple functions\n",
    " and removing the Promo abstract class\n",
    "\n",
    " \"functions are first-class citizens in Python,\" we mean that functions are treated like any other object — just like strings, integers, or lists."
   ]
  },
  {
   "cell_type": "code",
   "execution_count": null,
   "id": "cce27f06",
   "metadata": {},
   "outputs": [],
   "source": [
    "from collections.abc import Sequence\n",
    "from dataclasses import dataclass\n",
    "from decimal import Decimal\n",
    "from typing import Optional, Callable, NamedTuple\n",
    "\n",
    "\n",
    "class Customer(NamedTuple):\n",
    "    name: str\n",
    "    fidelity: int\n",
    "\n",
    "\n",
    "class LineItem(NamedTuple):\n",
    "    product: str\n",
    "    quantity: int\n",
    "    price: Decimal  # use decimal when you need to be precise about the float\n",
    "\n",
    "    def total(self):\n",
    "        return self.price * self.quantity\n",
    "\n",
    "@dataclass(frozen=True)\n",
    "class Order:  # the Context\n",
    "    customer: Customer\n",
    "    cart: Sequence[LineItem]\n",
    "    promotion: Optional[Callable[['Order'], Decimal]] = None  # <1> promotion may be None, or it may be a callable\n",
    "\n",
    "    def total(self) -> Decimal:\n",
    "        totals = (item.total() for item in self.cart)\n",
    "        return sum(totals, start=Decimal(0))\n",
    "\n",
    "    def due(self) -> Decimal:\n",
    "        if self.promotion is None:\n",
    "            discount = Decimal(0)\n",
    "        else:\n",
    "            discount = self.promotion(self)  # <2> promotion is not a method. It’s an instance\n",
    "        return self.total() - discount\n",
    "\n",
    "    def __repr__(self):\n",
    "        return f'<Order total: {self.total():.2f} due: {self.due():.2f}>'\n",
    "\n",
    "\n",
    "def fidelity_promo(order: Order) -> Decimal:  # <4> Each strategy is a function.\n",
    "    \"\"\"5% discount for customers with 1000 or more fidelity points\"\"\"\n",
    "    if order.customer.fidelity >= 1000:\n",
    "        return order.total() * Decimal('0.05')\n",
    "    return Decimal(0)\n",
    "\n",
    "\n",
    "def bulk_item_promo(order: Order) -> Decimal:\n",
    "    \"\"\"10% discount for each LineItem with 20 or more units\"\"\"\n",
    "    discount = Decimal(0)\n",
    "    for item in order.cart:\n",
    "        if item.quantity >= 20:\n",
    "            discount += item.total() * Decimal('0.1')\n",
    "    return discount\n",
    "\n",
    "\n",
    "def large_order_promo(order: Order) -> Decimal:\n",
    "    \"\"\"7% discount for orders with 10 or more distinct items\"\"\"\n",
    "    distinct_items = {item.product for item in order.cart}\n",
    "    if len(distinct_items) >= 10:\n",
    "        return order.total() * Decimal('0.07')\n",
    "    return Decimal(0)"
   ]
  },
  {
   "cell_type": "code",
   "execution_count": 13,
   "id": "fe510f02",
   "metadata": {},
   "outputs": [
    {
     "data": {
      "text/plain": [
       "<Order total: 42.00 due: 39.90>"
      ]
     },
     "execution_count": 13,
     "metadata": {},
     "output_type": "execute_result"
    }
   ],
   "source": [
    "joe = Customer('John Doe', 0)\n",
    "ann = Customer('Ann Smith', 1100)\n",
    "cart = [LineItem('banana', 4, Decimal('.5')),\n",
    "    LineItem('apple', 10, Decimal('1.5')),\n",
    "    LineItem('watermelon', 5, Decimal(5))]\n",
    "banana_cart = [LineItem('banana', 30, Decimal('.5')),\n",
    "    LineItem('apple', 10, Decimal('1.5'))]\n",
    "Order(ann, cart, fidelity_promo)"
   ]
  },
  {
   "cell_type": "code",
   "execution_count": 4,
   "id": "92448c8d",
   "metadata": {},
   "outputs": [
    {
     "data": {
      "text/plain": [
       "<Order total: 30.00 due: 28.50>"
      ]
     },
     "execution_count": 4,
     "metadata": {},
     "output_type": "execute_result"
    }
   ],
   "source": [
    "Order(joe, banana_cart, bulk_item_promo)"
   ]
  },
  {
   "cell_type": "markdown",
   "id": "6504f0f6",
   "metadata": {},
   "source": [
    "## Create a “metastrategy” that selects the best discount"
   ]
  },
  {
   "cell_type": "code",
   "execution_count": 8,
   "id": "7d9f826e",
   "metadata": {},
   "outputs": [],
   "source": [
    "from decimal import Decimal\n",
    "\n",
    "promos = [fidelity_promo, bulk_item_promo, large_order_promo]\n",
    "\n",
    "\n",
    "def best_promo(order: Order) -> Decimal:\n",
    "    \"\"\"Compute the best discount available\"\"\"\n",
    "    return max(promo(order) for promo in promos)"
   ]
  },
  {
   "cell_type": "markdown",
   "id": "546ae44b",
   "metadata": {},
   "source": [
    "## Finding Strategies in a Module"
   ]
  },
  {
   "cell_type": "code",
   "execution_count": 9,
   "id": "da8ea3a8",
   "metadata": {},
   "outputs": [
    {
     "data": {
      "text/plain": [
       "dict_items([('__name__', '__main__'), ('__doc__', 'Automatically created module for IPython interactive environment'), ('__package__', None), ('__loader__', None), ('__spec__', None), ('__builtin__', <module 'builtins' (built-in)>), ('__builtins__', <module 'builtins' (built-in)>), ('_ih', ['', \"joe = Customer('John Doe', 0)\\nann = Customer('Ann Smith', 1100)\\ncart = [LineItem('banana', 4, Decimal('.5')),\\n    LineItem('apple', 10, Decimal('1.5')),\\n    LineItem('watermelon', 5, Decimal(5))]\\nbanana_cart = [LineItem('banana', 30, Decimal('.5')),\\n    LineItem('apple', 10, Decimal('1.5'))]\\nOrder(ann, cart, fidelity_promo)\", 'from collections.abc import Sequence\\nfrom dataclasses import dataclass\\nfrom decimal import Decimal\\nfrom typing import Optional, Callable, NamedTuple\\n\\n\\nclass Customer(NamedTuple):\\n    name: str\\n    fidelity: int\\n\\n\\nclass LineItem(NamedTuple):\\n    product: str\\n    quantity: int\\n    price: Decimal\\n\\n    def total(self):\\n        return self.price * self.quantity\\n\\n@dataclass(frozen=True)\\nclass Order:  # the Context\\n    customer: Customer\\n    cart: Sequence[LineItem]\\n    promotion: Optional[Callable[[\\'Order\\'], Decimal]] = None  # <1> promotion may be None, or it may be a callable\\n\\n    def total(self) -> Decimal:\\n        totals = (item.total() for item in self.cart)\\n        return sum(totals, start=Decimal(0))\\n\\n    def due(self) -> Decimal:\\n        if self.promotion is None:\\n            discount = Decimal(0)\\n        else:\\n            discount = self.promotion(self)  # <2> promotion is not a method. It’s an instance\\n        return self.total() - discount\\n\\n    def __repr__(self):\\n        return f\\'<Order total: {self.total():.2f} due: {self.due():.2f}>\\'\\n\\n\\ndef fidelity_promo(order: Order) -> Decimal:  # <4> Each strategy is a function.\\n    \"\"\"5% discount for customers with 1000 or more fidelity points\"\"\"\\n    if order.customer.fidelity >= 1000:\\n        return order.total() * Decimal(\\'0.05\\')\\n    return Decimal(0)\\n\\n\\ndef bulk_item_promo(order: Order) -> Decimal:\\n    \"\"\"10% discount for each LineItem with 20 or more units\"\"\"\\n    discount = Decimal(0)\\n    for item in order.cart:\\n        if item.quantity >= 20:\\n            discount += item.total() * Decimal(\\'0.1\\')\\n    return discount\\n\\n\\ndef large_order_promo(order: Order) -> Decimal:\\n    \"\"\"7% discount for orders with 10 or more distinct items\"\"\"\\n    distinct_items = {item.product for item in order.cart}\\n    if len(distinct_items) >= 10:\\n        return order.total() * Decimal(\\'0.07\\')\\n    return Decimal(0)', \"joe = Customer('John Doe', 0)\\nann = Customer('Ann Smith', 1100)\\ncart = [LineItem('banana', 4, Decimal('.5')),\\n    LineItem('apple', 10, Decimal('1.5')),\\n    LineItem('watermelon', 5, Decimal(5))]\\nbanana_cart = [LineItem('banana', 30, Decimal('.5')),\\n    LineItem('apple', 10, Decimal('1.5'))]\\nOrder(ann, cart, fidelity_promo)\", 'Order(joe, banana_cart, bulk_item_promo)', \"joe = Customer('John Doe', 0)\\nann = Customer('Ann Smith', 1100)\\ncart = (LineItem('banana', 4, Decimal('.5')),\\n    LineItem('apple', 10, Decimal('1.5')),\\n    LineItem('watermelon', 5, Decimal(5)))\\n# The FidelityPromo promotion gives no discount to joe.\\nOrder(joe, cart, FidelityPromo())\", 'from abc import ABC, abstractmethod\\nfrom collections.abc import Sequence\\nfrom decimal import Decimal\\nfrom typing import NamedTuple, Optional\\n\\n\\nclass Customer(NamedTuple):\\n    name: str\\n    fidelity: int\\n\\n\\nclass LineItem(NamedTuple):\\n    product: str\\n    quantity: int\\n    price: Decimal\\n\\n    def total(self) -> Decimal:\\n        return self.price * self.quantity\\n\\n\\nclass Order(NamedTuple):  # the Context\\n    customer: Customer\\n    cart: Sequence[LineItem]\\n    promotion: Optional[\\'Promotion\\'] = None # This means the promotion field can either be a Promotion object or None.\\n\\n    def total(self) -> Decimal:\\n        totals = (item.total() for item in self.cart)\\n        return sum(totals, start=Decimal(0))\\n\\n    def due(self) -> Decimal:\\n        if self.promotion is None:\\n            discount = Decimal(0)\\n        else:\\n            discount = self.promotion.discount(self)\\n        return self.total() - discount\\n\\n    def __repr__(self):\\n        return f\\'<Order total: {self.total():.2f} due: {self.due():.2f}>\\'\\n\\n\\n# ABC: A base class that allows you to define abstract classes \\n# (classes that are meant to be subclassed, not instantiated directly).\\nclass Promotion(ABC):  # the Strategy: an abstract base class\\n    # A decorator that marks a method that must be implemented by any subclass.\\n    @abstractmethod\\n    def discount(self, order: Order) -> Decimal:\\n        \"\"\"Return discount as a positive dollar amount\"\"\"\\n\\n\\nclass FidelityPromo(Promotion):  # first Concrete Strategy\\n    \"\"\"5% discount for customers with 1000 or more fidelity points\"\"\"\\n\\n    def discount(self, order: Order) -> Decimal:\\n        rate = Decimal(\\'0.05\\')\\n        if order.customer.fidelity >= 1000:\\n            return order.total() * rate\\n        return Decimal(0)\\n\\n\\nclass BulkItemPromo(Promotion):  # second Concrete Strategy\\n    \"\"\"10% discount for each LineItem with 20 or more units\"\"\"\\n\\n    def discount(self, order: Order) -> Decimal:\\n        discount = Decimal(0)\\n        for item in order.cart:\\n            if item.quantity >= 20:\\n                discount += item.total() * Decimal(\\'0.1\\')\\n        return discount\\n\\n\\nclass LargeOrderPromo(Promotion):  # third Concrete Strategy\\n    \"\"\"7% discount for orders with 10 or more distinct items\"\"\"\\n\\n    def discount(self, order: Order) -> Decimal:\\n        distinct_items = {item.product for item in order.cart}\\n        if len(distinct_items) >= 10:\\n            return order.total() * Decimal(\\'0.07\\')\\n        return Decimal(0)', \"joe = Customer('John Doe', 0)\\nann = Customer('Ann Smith', 1100)\\ncart = (LineItem('banana', 4, Decimal('.5')),\\n    LineItem('apple', 10, Decimal('1.5')),\\n    LineItem('watermelon', 5, Decimal(5)))\\n# The FidelityPromo promotion gives no discount to joe.\\nOrder(joe, cart, FidelityPromo())\", 'from decimal import Decimal\\n\\npromos = [fidelity_promo, bulk_item_promo, large_order_promo]\\n\\n\\ndef best_promo(order: Order) -> Decimal:\\n    \"\"\"Compute the best discount available\"\"\"\\n    return max(promo(order) for promo in promos)', 'globals().items()']), ('_oh', {3: <Order total: 42.00 due: 39.90>, 4: <Order total: 30.00 due: 28.50>, 7: <Order total: 42.00 due: 42.00>}), ('_dh', [WindowsPath('d:/Fluent Python')]), ('In', ['', \"joe = Customer('John Doe', 0)\\nann = Customer('Ann Smith', 1100)\\ncart = [LineItem('banana', 4, Decimal('.5')),\\n    LineItem('apple', 10, Decimal('1.5')),\\n    LineItem('watermelon', 5, Decimal(5))]\\nbanana_cart = [LineItem('banana', 30, Decimal('.5')),\\n    LineItem('apple', 10, Decimal('1.5'))]\\nOrder(ann, cart, fidelity_promo)\", 'from collections.abc import Sequence\\nfrom dataclasses import dataclass\\nfrom decimal import Decimal\\nfrom typing import Optional, Callable, NamedTuple\\n\\n\\nclass Customer(NamedTuple):\\n    name: str\\n    fidelity: int\\n\\n\\nclass LineItem(NamedTuple):\\n    product: str\\n    quantity: int\\n    price: Decimal\\n\\n    def total(self):\\n        return self.price * self.quantity\\n\\n@dataclass(frozen=True)\\nclass Order:  # the Context\\n    customer: Customer\\n    cart: Sequence[LineItem]\\n    promotion: Optional[Callable[[\\'Order\\'], Decimal]] = None  # <1> promotion may be None, or it may be a callable\\n\\n    def total(self) -> Decimal:\\n        totals = (item.total() for item in self.cart)\\n        return sum(totals, start=Decimal(0))\\n\\n    def due(self) -> Decimal:\\n        if self.promotion is None:\\n            discount = Decimal(0)\\n        else:\\n            discount = self.promotion(self)  # <2> promotion is not a method. It’s an instance\\n        return self.total() - discount\\n\\n    def __repr__(self):\\n        return f\\'<Order total: {self.total():.2f} due: {self.due():.2f}>\\'\\n\\n\\ndef fidelity_promo(order: Order) -> Decimal:  # <4> Each strategy is a function.\\n    \"\"\"5% discount for customers with 1000 or more fidelity points\"\"\"\\n    if order.customer.fidelity >= 1000:\\n        return order.total() * Decimal(\\'0.05\\')\\n    return Decimal(0)\\n\\n\\ndef bulk_item_promo(order: Order) -> Decimal:\\n    \"\"\"10% discount for each LineItem with 20 or more units\"\"\"\\n    discount = Decimal(0)\\n    for item in order.cart:\\n        if item.quantity >= 20:\\n            discount += item.total() * Decimal(\\'0.1\\')\\n    return discount\\n\\n\\ndef large_order_promo(order: Order) -> Decimal:\\n    \"\"\"7% discount for orders with 10 or more distinct items\"\"\"\\n    distinct_items = {item.product for item in order.cart}\\n    if len(distinct_items) >= 10:\\n        return order.total() * Decimal(\\'0.07\\')\\n    return Decimal(0)', \"joe = Customer('John Doe', 0)\\nann = Customer('Ann Smith', 1100)\\ncart = [LineItem('banana', 4, Decimal('.5')),\\n    LineItem('apple', 10, Decimal('1.5')),\\n    LineItem('watermelon', 5, Decimal(5))]\\nbanana_cart = [LineItem('banana', 30, Decimal('.5')),\\n    LineItem('apple', 10, Decimal('1.5'))]\\nOrder(ann, cart, fidelity_promo)\", 'Order(joe, banana_cart, bulk_item_promo)', \"joe = Customer('John Doe', 0)\\nann = Customer('Ann Smith', 1100)\\ncart = (LineItem('banana', 4, Decimal('.5')),\\n    LineItem('apple', 10, Decimal('1.5')),\\n    LineItem('watermelon', 5, Decimal(5)))\\n# The FidelityPromo promotion gives no discount to joe.\\nOrder(joe, cart, FidelityPromo())\", 'from abc import ABC, abstractmethod\\nfrom collections.abc import Sequence\\nfrom decimal import Decimal\\nfrom typing import NamedTuple, Optional\\n\\n\\nclass Customer(NamedTuple):\\n    name: str\\n    fidelity: int\\n\\n\\nclass LineItem(NamedTuple):\\n    product: str\\n    quantity: int\\n    price: Decimal\\n\\n    def total(self) -> Decimal:\\n        return self.price * self.quantity\\n\\n\\nclass Order(NamedTuple):  # the Context\\n    customer: Customer\\n    cart: Sequence[LineItem]\\n    promotion: Optional[\\'Promotion\\'] = None # This means the promotion field can either be a Promotion object or None.\\n\\n    def total(self) -> Decimal:\\n        totals = (item.total() for item in self.cart)\\n        return sum(totals, start=Decimal(0))\\n\\n    def due(self) -> Decimal:\\n        if self.promotion is None:\\n            discount = Decimal(0)\\n        else:\\n            discount = self.promotion.discount(self)\\n        return self.total() - discount\\n\\n    def __repr__(self):\\n        return f\\'<Order total: {self.total():.2f} due: {self.due():.2f}>\\'\\n\\n\\n# ABC: A base class that allows you to define abstract classes \\n# (classes that are meant to be subclassed, not instantiated directly).\\nclass Promotion(ABC):  # the Strategy: an abstract base class\\n    # A decorator that marks a method that must be implemented by any subclass.\\n    @abstractmethod\\n    def discount(self, order: Order) -> Decimal:\\n        \"\"\"Return discount as a positive dollar amount\"\"\"\\n\\n\\nclass FidelityPromo(Promotion):  # first Concrete Strategy\\n    \"\"\"5% discount for customers with 1000 or more fidelity points\"\"\"\\n\\n    def discount(self, order: Order) -> Decimal:\\n        rate = Decimal(\\'0.05\\')\\n        if order.customer.fidelity >= 1000:\\n            return order.total() * rate\\n        return Decimal(0)\\n\\n\\nclass BulkItemPromo(Promotion):  # second Concrete Strategy\\n    \"\"\"10% discount for each LineItem with 20 or more units\"\"\"\\n\\n    def discount(self, order: Order) -> Decimal:\\n        discount = Decimal(0)\\n        for item in order.cart:\\n            if item.quantity >= 20:\\n                discount += item.total() * Decimal(\\'0.1\\')\\n        return discount\\n\\n\\nclass LargeOrderPromo(Promotion):  # third Concrete Strategy\\n    \"\"\"7% discount for orders with 10 or more distinct items\"\"\"\\n\\n    def discount(self, order: Order) -> Decimal:\\n        distinct_items = {item.product for item in order.cart}\\n        if len(distinct_items) >= 10:\\n            return order.total() * Decimal(\\'0.07\\')\\n        return Decimal(0)', \"joe = Customer('John Doe', 0)\\nann = Customer('Ann Smith', 1100)\\ncart = (LineItem('banana', 4, Decimal('.5')),\\n    LineItem('apple', 10, Decimal('1.5')),\\n    LineItem('watermelon', 5, Decimal(5)))\\n# The FidelityPromo promotion gives no discount to joe.\\nOrder(joe, cart, FidelityPromo())\", 'from decimal import Decimal\\n\\npromos = [fidelity_promo, bulk_item_promo, large_order_promo]\\n\\n\\ndef best_promo(order: Order) -> Decimal:\\n    \"\"\"Compute the best discount available\"\"\"\\n    return max(promo(order) for promo in promos)', 'globals().items()']), ('Out', {3: <Order total: 42.00 due: 39.90>, 4: <Order total: 30.00 due: 28.50>, 7: <Order total: 42.00 due: 42.00>}), ('get_ipython', <bound method InteractiveShell.get_ipython of <ipykernel.zmqshell.ZMQInteractiveShell object at 0x00000248A18F8F70>>), ('exit', <IPython.core.autocall.ZMQExitAutocall object at 0x00000248A18F99C0>), ('quit', <IPython.core.autocall.ZMQExitAutocall object at 0x00000248A18F99C0>), ('open', <function open at 0x00000248A02D5000>), ('_', <Order total: 42.00 due: 42.00>), ('__', <Order total: 30.00 due: 28.50>), ('___', <Order total: 42.00 due: 39.90>), ('__vsc_ipynb_file__', 'd:\\\\Fluent Python\\\\chapter_10.ipynb'), ('_i', 'from decimal import Decimal\\n\\npromos = [fidelity_promo, bulk_item_promo, large_order_promo]\\n\\n\\ndef best_promo(order: Order) -> Decimal:\\n    \"\"\"Compute the best discount available\"\"\"\\n    return max(promo(order) for promo in promos)'), ('_ii', \"joe = Customer('John Doe', 0)\\nann = Customer('Ann Smith', 1100)\\ncart = (LineItem('banana', 4, Decimal('.5')),\\n    LineItem('apple', 10, Decimal('1.5')),\\n    LineItem('watermelon', 5, Decimal(5)))\\n# The FidelityPromo promotion gives no discount to joe.\\nOrder(joe, cart, FidelityPromo())\"), ('_iii', 'from abc import ABC, abstractmethod\\nfrom collections.abc import Sequence\\nfrom decimal import Decimal\\nfrom typing import NamedTuple, Optional\\n\\n\\nclass Customer(NamedTuple):\\n    name: str\\n    fidelity: int\\n\\n\\nclass LineItem(NamedTuple):\\n    product: str\\n    quantity: int\\n    price: Decimal\\n\\n    def total(self) -> Decimal:\\n        return self.price * self.quantity\\n\\n\\nclass Order(NamedTuple):  # the Context\\n    customer: Customer\\n    cart: Sequence[LineItem]\\n    promotion: Optional[\\'Promotion\\'] = None # This means the promotion field can either be a Promotion object or None.\\n\\n    def total(self) -> Decimal:\\n        totals = (item.total() for item in self.cart)\\n        return sum(totals, start=Decimal(0))\\n\\n    def due(self) -> Decimal:\\n        if self.promotion is None:\\n            discount = Decimal(0)\\n        else:\\n            discount = self.promotion.discount(self)\\n        return self.total() - discount\\n\\n    def __repr__(self):\\n        return f\\'<Order total: {self.total():.2f} due: {self.due():.2f}>\\'\\n\\n\\n# ABC: A base class that allows you to define abstract classes \\n# (classes that are meant to be subclassed, not instantiated directly).\\nclass Promotion(ABC):  # the Strategy: an abstract base class\\n    # A decorator that marks a method that must be implemented by any subclass.\\n    @abstractmethod\\n    def discount(self, order: Order) -> Decimal:\\n        \"\"\"Return discount as a positive dollar amount\"\"\"\\n\\n\\nclass FidelityPromo(Promotion):  # first Concrete Strategy\\n    \"\"\"5% discount for customers with 1000 or more fidelity points\"\"\"\\n\\n    def discount(self, order: Order) -> Decimal:\\n        rate = Decimal(\\'0.05\\')\\n        if order.customer.fidelity >= 1000:\\n            return order.total() * rate\\n        return Decimal(0)\\n\\n\\nclass BulkItemPromo(Promotion):  # second Concrete Strategy\\n    \"\"\"10% discount for each LineItem with 20 or more units\"\"\"\\n\\n    def discount(self, order: Order) -> Decimal:\\n        discount = Decimal(0)\\n        for item in order.cart:\\n            if item.quantity >= 20:\\n                discount += item.total() * Decimal(\\'0.1\\')\\n        return discount\\n\\n\\nclass LargeOrderPromo(Promotion):  # third Concrete Strategy\\n    \"\"\"7% discount for orders with 10 or more distinct items\"\"\"\\n\\n    def discount(self, order: Order) -> Decimal:\\n        distinct_items = {item.product for item in order.cart}\\n        if len(distinct_items) >= 10:\\n            return order.total() * Decimal(\\'0.07\\')\\n        return Decimal(0)'), ('_i1', \"joe = Customer('John Doe', 0)\\nann = Customer('Ann Smith', 1100)\\ncart = [LineItem('banana', 4, Decimal('.5')),\\n    LineItem('apple', 10, Decimal('1.5')),\\n    LineItem('watermelon', 5, Decimal(5))]\\nbanana_cart = [LineItem('banana', 30, Decimal('.5')),\\n    LineItem('apple', 10, Decimal('1.5'))]\\nOrder(ann, cart, fidelity_promo)\"), ('_i2', 'from collections.abc import Sequence\\nfrom dataclasses import dataclass\\nfrom decimal import Decimal\\nfrom typing import Optional, Callable, NamedTuple\\n\\n\\nclass Customer(NamedTuple):\\n    name: str\\n    fidelity: int\\n\\n\\nclass LineItem(NamedTuple):\\n    product: str\\n    quantity: int\\n    price: Decimal\\n\\n    def total(self):\\n        return self.price * self.quantity\\n\\n@dataclass(frozen=True)\\nclass Order:  # the Context\\n    customer: Customer\\n    cart: Sequence[LineItem]\\n    promotion: Optional[Callable[[\\'Order\\'], Decimal]] = None  # <1> promotion may be None, or it may be a callable\\n\\n    def total(self) -> Decimal:\\n        totals = (item.total() for item in self.cart)\\n        return sum(totals, start=Decimal(0))\\n\\n    def due(self) -> Decimal:\\n        if self.promotion is None:\\n            discount = Decimal(0)\\n        else:\\n            discount = self.promotion(self)  # <2> promotion is not a method. It’s an instance\\n        return self.total() - discount\\n\\n    def __repr__(self):\\n        return f\\'<Order total: {self.total():.2f} due: {self.due():.2f}>\\'\\n\\n\\ndef fidelity_promo(order: Order) -> Decimal:  # <4> Each strategy is a function.\\n    \"\"\"5% discount for customers with 1000 or more fidelity points\"\"\"\\n    if order.customer.fidelity >= 1000:\\n        return order.total() * Decimal(\\'0.05\\')\\n    return Decimal(0)\\n\\n\\ndef bulk_item_promo(order: Order) -> Decimal:\\n    \"\"\"10% discount for each LineItem with 20 or more units\"\"\"\\n    discount = Decimal(0)\\n    for item in order.cart:\\n        if item.quantity >= 20:\\n            discount += item.total() * Decimal(\\'0.1\\')\\n    return discount\\n\\n\\ndef large_order_promo(order: Order) -> Decimal:\\n    \"\"\"7% discount for orders with 10 or more distinct items\"\"\"\\n    distinct_items = {item.product for item in order.cart}\\n    if len(distinct_items) >= 10:\\n        return order.total() * Decimal(\\'0.07\\')\\n    return Decimal(0)'), ('Sequence', <class 'collections.abc.Sequence'>), ('dataclass', <function dataclass at 0x000002489F4FB9A0>), ('Decimal', <class 'decimal.Decimal'>), ('Optional', typing.Optional), ('Callable', typing.Callable), ('NamedTuple', <function NamedTuple at 0x000002489D709A20>), ('Customer', <class '__main__.Customer'>), ('LineItem', <class '__main__.LineItem'>), ('Order', <class '__main__.Order'>), ('fidelity_promo', <function fidelity_promo at 0x00000248A1902F80>), ('bulk_item_promo', <function bulk_item_promo at 0x00000248A2DC8160>), ('large_order_promo', <function large_order_promo at 0x00000248A2DC93F0>), ('_i3', \"joe = Customer('John Doe', 0)\\nann = Customer('Ann Smith', 1100)\\ncart = [LineItem('banana', 4, Decimal('.5')),\\n    LineItem('apple', 10, Decimal('1.5')),\\n    LineItem('watermelon', 5, Decimal(5))]\\nbanana_cart = [LineItem('banana', 30, Decimal('.5')),\\n    LineItem('apple', 10, Decimal('1.5'))]\\nOrder(ann, cart, fidelity_promo)\"), ('joe', Customer(name='John Doe', fidelity=0)), ('ann', Customer(name='Ann Smith', fidelity=1100)), ('cart', (LineItem(product='banana', quantity=4, price=Decimal('0.5')), LineItem(product='apple', quantity=10, price=Decimal('1.5')), LineItem(product='watermelon', quantity=5, price=Decimal('5')))), ('banana_cart', [LineItem(product='banana', quantity=30, price=Decimal('0.5')), LineItem(product='apple', quantity=10, price=Decimal('1.5'))]), ('_3', <Order total: 42.00 due: 39.90>), ('_i4', 'Order(joe, banana_cart, bulk_item_promo)'), ('_4', <Order total: 30.00 due: 28.50>), ('_i5', \"joe = Customer('John Doe', 0)\\nann = Customer('Ann Smith', 1100)\\ncart = (LineItem('banana', 4, Decimal('.5')),\\n    LineItem('apple', 10, Decimal('1.5')),\\n    LineItem('watermelon', 5, Decimal(5)))\\n# The FidelityPromo promotion gives no discount to joe.\\nOrder(joe, cart, FidelityPromo())\"), ('_i6', 'from abc import ABC, abstractmethod\\nfrom collections.abc import Sequence\\nfrom decimal import Decimal\\nfrom typing import NamedTuple, Optional\\n\\n\\nclass Customer(NamedTuple):\\n    name: str\\n    fidelity: int\\n\\n\\nclass LineItem(NamedTuple):\\n    product: str\\n    quantity: int\\n    price: Decimal\\n\\n    def total(self) -> Decimal:\\n        return self.price * self.quantity\\n\\n\\nclass Order(NamedTuple):  # the Context\\n    customer: Customer\\n    cart: Sequence[LineItem]\\n    promotion: Optional[\\'Promotion\\'] = None # This means the promotion field can either be a Promotion object or None.\\n\\n    def total(self) -> Decimal:\\n        totals = (item.total() for item in self.cart)\\n        return sum(totals, start=Decimal(0))\\n\\n    def due(self) -> Decimal:\\n        if self.promotion is None:\\n            discount = Decimal(0)\\n        else:\\n            discount = self.promotion.discount(self)\\n        return self.total() - discount\\n\\n    def __repr__(self):\\n        return f\\'<Order total: {self.total():.2f} due: {self.due():.2f}>\\'\\n\\n\\n# ABC: A base class that allows you to define abstract classes \\n# (classes that are meant to be subclassed, not instantiated directly).\\nclass Promotion(ABC):  # the Strategy: an abstract base class\\n    # A decorator that marks a method that must be implemented by any subclass.\\n    @abstractmethod\\n    def discount(self, order: Order) -> Decimal:\\n        \"\"\"Return discount as a positive dollar amount\"\"\"\\n\\n\\nclass FidelityPromo(Promotion):  # first Concrete Strategy\\n    \"\"\"5% discount for customers with 1000 or more fidelity points\"\"\"\\n\\n    def discount(self, order: Order) -> Decimal:\\n        rate = Decimal(\\'0.05\\')\\n        if order.customer.fidelity >= 1000:\\n            return order.total() * rate\\n        return Decimal(0)\\n\\n\\nclass BulkItemPromo(Promotion):  # second Concrete Strategy\\n    \"\"\"10% discount for each LineItem with 20 or more units\"\"\"\\n\\n    def discount(self, order: Order) -> Decimal:\\n        discount = Decimal(0)\\n        for item in order.cart:\\n            if item.quantity >= 20:\\n                discount += item.total() * Decimal(\\'0.1\\')\\n        return discount\\n\\n\\nclass LargeOrderPromo(Promotion):  # third Concrete Strategy\\n    \"\"\"7% discount for orders with 10 or more distinct items\"\"\"\\n\\n    def discount(self, order: Order) -> Decimal:\\n        distinct_items = {item.product for item in order.cart}\\n        if len(distinct_items) >= 10:\\n            return order.total() * Decimal(\\'0.07\\')\\n        return Decimal(0)'), ('ABC', <class 'abc.ABC'>), ('abstractmethod', <function abstractmethod at 0x000002489D1FCE50>), ('Promotion', <class '__main__.Promotion'>), ('FidelityPromo', <class '__main__.FidelityPromo'>), ('BulkItemPromo', <class '__main__.BulkItemPromo'>), ('LargeOrderPromo', <class '__main__.LargeOrderPromo'>), ('_i7', \"joe = Customer('John Doe', 0)\\nann = Customer('Ann Smith', 1100)\\ncart = (LineItem('banana', 4, Decimal('.5')),\\n    LineItem('apple', 10, Decimal('1.5')),\\n    LineItem('watermelon', 5, Decimal(5)))\\n# The FidelityPromo promotion gives no discount to joe.\\nOrder(joe, cart, FidelityPromo())\"), ('_7', <Order total: 42.00 due: 42.00>), ('_i8', 'from decimal import Decimal\\n\\npromos = [fidelity_promo, bulk_item_promo, large_order_promo]\\n\\n\\ndef best_promo(order: Order) -> Decimal:\\n    \"\"\"Compute the best discount available\"\"\"\\n    return max(promo(order) for promo in promos)'), ('promos', [<function fidelity_promo at 0x00000248A1902F80>, <function bulk_item_promo at 0x00000248A2DC8160>, <function large_order_promo at 0x00000248A2DC93F0>]), ('best_promo', <function best_promo at 0x00000248A2DC96C0>), ('_i9', 'globals().items()')])"
      ]
     },
     "execution_count": 9,
     "metadata": {},
     "output_type": "execute_result"
    }
   ],
   "source": [
    "globals().items()"
   ]
  },
  {
   "cell_type": "code",
   "execution_count": 10,
   "id": "6707072a",
   "metadata": {},
   "outputs": [],
   "source": [
    "from decimal import Decimal\n",
    "\n",
    "promos = [promo for name, promo in globals().items()\n",
    "                if name.endswith('_promo') and\n",
    "                   name != 'best_promo'\n",
    "]\n",
    "\n",
    "\n",
    "def best_promo(order: Order) -> Decimal:\n",
    "    \"\"\"Compute the best discount available\"\"\"\n",
    "    return max(promo(order) for promo in promos)"
   ]
  },
  {
   "cell_type": "code",
   "execution_count": 14,
   "id": "96f00b65",
   "metadata": {},
   "outputs": [
    {
     "data": {
      "text/plain": [
       "<Order total: 30.00 due: 28.50>"
      ]
     },
     "execution_count": 14,
     "metadata": {},
     "output_type": "execute_result"
    }
   ],
   "source": [
    "Order(joe, banana_cart, best_promo)"
   ]
  },
  {
   "cell_type": "markdown",
   "id": "0a611e82",
   "metadata": {},
   "source": [
    "## Decorator-Enhanced strategy pattern"
   ]
  },
  {
   "cell_type": "code",
   "execution_count": 16,
   "id": "51a56680",
   "metadata": {},
   "outputs": [],
   "source": [
    "from decimal import Decimal\n",
    "from typing import Callable\n",
    "\n",
    "\n",
    "Promotion = Callable[[Order], Decimal]\n",
    "\n",
    "promos: list[Promotion] = []\n",
    "\n",
    "\n",
    "def promotion(promo: Promotion) -> Promotion:\n",
    "    promos.append(promo)\n",
    "    return promo\n",
    "\n",
    "\n",
    "def best_promo(order: Order) -> Decimal:\n",
    "    \"\"\"Compute the best discount available\"\"\"\n",
    "    return max(promo(order) for promo in promos)\n",
    "\n",
    "\n",
    "@promotion\n",
    "def fidelity(order: Order) -> Decimal:\n",
    "    \"\"\"5% discount for customers with 1000 or more fidelity points\"\"\"\n",
    "    if order.customer.fidelity >= 1000:\n",
    "        return order.total() * Decimal('0.05')\n",
    "    return Decimal(0)\n",
    "\n",
    "\n",
    "@promotion\n",
    "def bulk_item(order: Order) -> Decimal:\n",
    "    \"\"\"10% discount for each LineItem with 20 or more units\"\"\"\n",
    "    discount = Decimal(0)\n",
    "    for item in order.cart:\n",
    "        if item.quantity >= 20:\n",
    "            discount += item.total() * Decimal('0.1')\n",
    "    return discount\n",
    "\n",
    "\n",
    "@promotion\n",
    "def large_order(order: Order) -> Decimal:\n",
    "    \"\"\"7% discount for orders with 10 or more distinct items\"\"\"\n",
    "    distinct_items = {item.product for item in order.cart}\n",
    "    if len(distinct_items) >= 10:\n",
    "        return order.total() * Decimal('0.07')\n",
    "    return Decimal(0)"
   ]
  },
  {
   "cell_type": "markdown",
   "id": "586e4db3",
   "metadata": {},
   "source": [
    "## Logging System using Strategy Pattern"
   ]
  },
  {
   "cell_type": "code",
   "execution_count": 6,
   "id": "1e3d8d2d",
   "metadata": {},
   "outputs": [],
   "source": [
    "import datetime\n",
    "import json\n",
    "from typing import NamedTuple, Callable\n",
    "\n",
    "class UserAction(NamedTuple):\n",
    "    user_id: int\n",
    "    action_type: str\n",
    "    timestamp: datetime.datetime\n",
    "\n",
    "def process_action(action: UserAction, logger: Callable[[UserAction], None]) -> None:\n",
    "    logger(action)\n",
    "\n",
    "def console_logger(action: UserAction) -> None:\n",
    "    print(action)\n",
    "\n",
    "def json_logger(action: UserAction) -> None:\n",
    "    json_str = json.dumps(action._asdict(), default=str)  \n",
    "    print(json_str)\n",
    "\n",
    "def remote_logger(action: UserAction) -> None:\n",
    "    print(f\"Sending to remote server: {action._asdict()}\")  # Simulated remote log"
   ]
  },
  {
   "cell_type": "code",
   "execution_count": 7,
   "id": "4bfcc50e",
   "metadata": {},
   "outputs": [
    {
     "name": "stdout",
     "output_type": "stream",
     "text": [
      "UserAction(user_id=1, action_type='click', timestamp=datetime.datetime(2025, 7, 24, 9, 31, 58, 959344))\n",
      "{\"user_id\": 1, \"action_type\": \"click\", \"timestamp\": \"2025-07-24 09:31:58.959344\"}\n",
      "Sending to remote server: {'user_id': 1, 'action_type': 'click', 'timestamp': datetime.datetime(2025, 7, 24, 9, 31, 58, 959344)}\n"
     ]
    }
   ],
   "source": [
    "now = datetime.datetime.now()\n",
    "action = UserAction(user_id=1, action_type=\"click\", timestamp=now)\n",
    "\n",
    "process_action(action, console_logger)\n",
    "process_action(action, json_logger)\n",
    "process_action(action, remote_logger)"
   ]
  },
  {
   "cell_type": "code",
   "execution_count": null,
   "id": "88525941",
   "metadata": {},
   "outputs": [],
   "source": []
  }
 ],
 "metadata": {
  "kernelspec": {
   "display_name": "Python 3",
   "language": "python",
   "name": "python3"
  },
  "language_info": {
   "codemirror_mode": {
    "name": "ipython",
    "version": 3
   },
   "file_extension": ".py",
   "mimetype": "text/x-python",
   "name": "python",
   "nbconvert_exporter": "python",
   "pygments_lexer": "ipython3",
   "version": "3.10.6"
  }
 },
 "nbformat": 4,
 "nbformat_minor": 5
}
