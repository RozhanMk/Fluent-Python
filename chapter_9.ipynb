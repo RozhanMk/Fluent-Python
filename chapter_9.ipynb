{
 "cells": [
  {
   "cell_type": "markdown",
   "id": "fbf1fc37",
   "metadata": {},
   "source": [
    "## Decorators\n",
    "\n",
    "A decorator is a callable that takes another function as an argument (the decorated\n",
    " function).\n",
    " A decorator may perform some processing with the decorated function, and returns\n",
    " it or replaces it with another function or callable object."
   ]
  },
  {
   "cell_type": "markdown",
   "id": "82a40c29",
   "metadata": {},
   "source": [
    "Python does not require you to declare variables, but assumes that a variable assigned in the body of a function is local. That's why you use `global` keyword when you wanna use a global var in a local scope."
   ]
  },
  {
   "cell_type": "markdown",
   "id": "6a2bbf3d",
   "metadata": {},
   "source": [
    "function decorators are executed\n",
    "as soon as the module is imported, but the decorated functions only run when they\n",
    "are explicitly invoked. This highlights the difference between what Pythonistas call\n",
    "import time and runtime."
   ]
  },
  {
   "cell_type": "code",
   "execution_count": 3,
   "id": "8f686bcd",
   "metadata": {},
   "outputs": [
    {
     "name": "stdout",
     "output_type": "stream",
     "text": [
      "running register(<function f1 at 0x72c7c5570220>)\n",
      "running register(<function f2 at 0x72c7c5523e20>)\n",
      "running main()\n",
      "registry -> [<function f1 at 0x72c7c5570220>, <function f2 at 0x72c7c5523e20>]\n",
      "running f1()\n",
      "running f2()\n",
      "running f3()\n"
     ]
    }
   ],
   "source": [
    "registry = []\n",
    "def register(func):\n",
    "    print(f'running register({func})')\n",
    "    registry.append(func)\n",
    "    return func\n",
    "\n",
    "@register\n",
    "def f1():\n",
    "    print('running f1()')\n",
    "\n",
    "@register\n",
    "def f2():\n",
    "    print('running f2()')\n",
    "\n",
    "def f3():\n",
    "    print('running f3()')\n",
    "\n",
    "def main():\n",
    "    print('running main()')\n",
    "    print('registry ->', registry)\n",
    "    f1()\n",
    "    f2()\n",
    "    f3()\n",
    "if __name__ == '__main__':\n",
    "    main()"
   ]
  },
  {
   "cell_type": "markdown",
   "id": "211d4b57",
   "metadata": {},
   "source": [
    "## Cache and lre_cache"
   ]
  },
  {
   "cell_type": "markdown",
   "id": "aae71670",
   "metadata": {},
   "source": [
    "The functools.cache decorator -> implements memoization\n",
    "it saves the result of previous invocations of an expensive func.\n",
    "\n",
    "All the arguments taken by the decorated func must be hashable cause the cache users a dict to store the results.\n",
    "\n",
    "The main advantage of @lru_cache is that its memory usage is bounded by the maxsize param."
   ]
  },
  {
   "cell_type": "code",
   "execution_count": null,
   "id": "36a645e5",
   "metadata": {},
   "outputs": [
    {
     "name": "stdout",
     "output_type": "stream",
     "text": [
      "13\n"
     ]
    }
   ],
   "source": [
    "import functools\n",
    "\n",
    "@functools.cache\n",
    "def fibonacci(n):\n",
    "    return 1 if n < 2 else fibonacci(n-2) + fibonacci(n-1)\n",
    "\n",
    "print(fibonacci(6))"
   ]
  },
  {
   "cell_type": "markdown",
   "id": "aef49829",
   "metadata": {},
   "source": [
    "A more real example related to API rate-limited calls:"
   ]
  },
  {
   "cell_type": "code",
   "execution_count": 12,
   "id": "906ab086",
   "metadata": {},
   "outputs": [
    {
     "name": "stdout",
     "output_type": "stream",
     "text": [
      "Fetching info for us\n",
      "[{'name': {'common': 'United States', 'official': 'United States of America', 'nativeName': {'eng': {'official': 'United States of America', 'common': 'United States'}}}, 'tld': ['.us'], 'cca2': 'US', 'ccn3': '840', 'cioc': 'USA', 'independent': True, 'status': 'officially-assigned', 'unMember': True, 'currencies': {'USD': {'symbol': '$', 'name': 'United States dollar'}}, 'idd': {'root': '+1', 'suffixes': ['201', '202', '203', '205', '206', '207', '208', '209', '210', '212', '213', '214', '215', '216', '217', '218', '219', '220', '224', '225', '227', '228', '229', '231', '234', '239', '240', '248', '251', '252', '253', '254', '256', '260', '262', '267', '269', '270', '272', '274', '276', '281', '283', '301', '302', '303', '304', '305', '307', '308', '309', '310', '312', '313', '314', '315', '316', '317', '318', '319', '320', '321', '323', '325', '327', '330', '331', '334', '336', '337', '339', '346', '347', '351', '352', '360', '361', '364', '380', '385', '386', '401', '402', '404', '405', '406', '407', '408', '409', '410', '412', '413', '414', '415', '417', '419', '423', '424', '425', '430', '432', '434', '435', '440', '442', '443', '447', '458', '463', '464', '469', '470', '475', '478', '479', '480', '484', '501', '502', '503', '504', '505', '507', '508', '509', '510', '512', '513', '515', '516', '517', '518', '520', '530', '531', '534', '539', '540', '541', '551', '559', '561', '562', '563', '564', '567', '570', '571', '573', '574', '575', '580', '585', '586', '601', '602', '603', '605', '606', '607', '608', '609', '610', '612', '614', '615', '616', '617', '618', '619', '620', '623', '626', '628', '629', '630', '631', '636', '641', '646', '650', '651', '657', '660', '661', '662', '667', '669', '678', '681', '682', '701', '702', '703', '704', '706', '707', '708', '712', '713', '714', '715', '716', '717', '718', '719', '720', '724', '725', '727', '730', '731', '732', '734', '737', '740', '743', '747', '754', '757', '760', '762', '763', '765', '769', '770', '772', '773', '774', '775', '779', '781', '785', '786', '801', '802', '803', '804', '805', '806', '808', '810', '812', '813', '814', '815', '816', '817', '818', '828', '830', '831', '832', '843', '845', '847', '848', '850', '854', '856', '857', '858', '859', '860', '862', '863', '864', '865', '870', '872', '878', '901', '903', '904', '906', '907', '908', '909', '910', '912', '913', '914', '915', '916', '917', '918', '919', '920', '925', '928', '929', '930', '931', '934', '936', '937', '938', '940', '941', '947', '949', '951', '952', '954', '956', '959', '970', '971', '972', '973', '975', '978', '979', '980', '984', '985', '989']}, 'capital': ['Washington, D.C.'], 'altSpellings': ['US', 'USA', 'United States of America'], 'region': 'Americas', 'subregion': 'North America', 'languages': {'eng': 'English'}, 'latlng': [38.0, -97.0], 'landlocked': False, 'borders': ['CAN', 'MEX'], 'area': 9372610.0, 'demonyms': {'eng': {'f': 'American', 'm': 'American'}, 'fra': {'f': 'Américaine', 'm': 'Américain'}}, 'cca3': 'USA', 'translations': {'ara': {'official': 'الولايات المتحدة الامريكية', 'common': 'الولايات المتحدة'}, 'bre': {'official': 'Stadoù-Unanet Amerika', 'common': 'Stadoù-Unanet'}, 'ces': {'official': 'Spojené státy americké', 'common': 'Spojené státy'}, 'cym': {'official': 'United States of America', 'common': 'United States'}, 'deu': {'official': 'Vereinigte Staaten von Amerika', 'common': 'Vereinigte Staaten'}, 'est': {'official': 'Ameerika Ühendriigid', 'common': 'Ameerika Ühendriigid'}, 'fin': {'official': 'Amerikan yhdysvallat', 'common': 'Yhdysvallat'}, 'fra': {'official': \"Les états-unis d'Amérique\", 'common': 'États-Unis'}, 'hrv': {'official': 'Sjedinjene Države Amerike', 'common': 'Sjedinjene Američke Države'}, 'hun': {'official': 'Amerikai Egyesült Államok', 'common': 'Amerikai Egyesült Államok'}, 'ind': {'official': 'Amerika Serikat', 'common': 'Amerika'}, 'ita': {'official': \"Stati Uniti d'America\", 'common': \"Stati Uniti d'America\"}, 'jpn': {'official': 'アメリカ合衆国', 'common': 'アメリカ合衆国'}, 'kor': {'official': '아메리카 합중국', 'common': '미국'}, 'nld': {'official': 'Verenigde Staten van Amerika', 'common': 'Verenigde Staten'}, 'per': {'official': 'ایالات متحده آمریکا', 'common': 'ایالات متحده آمریکا'}, 'pol': {'official': 'Stany Zjednoczone Ameryki', 'common': 'Stany Zjednoczone'}, 'por': {'official': 'Estados Unidos da América', 'common': 'Estados Unidos'}, 'rus': {'official': 'Соединенные Штаты Америки', 'common': 'Соединённые Штаты Америки'}, 'slk': {'official': 'Spojené štáty Americké', 'common': 'Spojené štáty americké'}, 'spa': {'official': 'Estados Unidos de América', 'common': 'Estados Unidos'}, 'srp': {'official': 'Сједињене Америчке Државе', 'common': 'Сједињене Америчке Државе'}, 'swe': {'official': 'Amerikas förenta stater', 'common': 'USA'}, 'tur': {'official': 'Amerika Birleşik Devletleri', 'common': 'Amerika Birleşik Devletleri'}, 'urd': {'official': 'ریاستہائے متحدہ امریکا', 'common': 'ریاستہائے متحدہ'}, 'zho': {'official': '美利坚合众国', 'common': '美国'}}, 'flag': '🇺🇸', 'maps': {'googleMaps': 'https://goo.gl/maps/e8M246zY4BSjkjAv6', 'openStreetMaps': 'https://www.openstreetmap.org/relation/148838#map=2/20.6/-85.8'}, 'population': 329484123, 'gini': {'2018': 41.4}, 'fifa': 'USA', 'car': {'signs': ['USA'], 'side': 'right'}, 'timezones': ['UTC-12:00', 'UTC-11:00', 'UTC-10:00', 'UTC-09:00', 'UTC-08:00', 'UTC-07:00', 'UTC-06:00', 'UTC-05:00', 'UTC-04:00', 'UTC+10:00', 'UTC+12:00'], 'continents': ['North America'], 'flags': {'png': 'https://flagcdn.com/w320/us.png', 'svg': 'https://flagcdn.com/us.svg', 'alt': 'The flag of the United States of America is composed of thirteen equal horizontal bands of red alternating with white. A blue rectangle, bearing fifty small five-pointed white stars arranged in nine rows where rows of six stars alternate with rows of five stars, is superimposed in the canton.'}, 'coatOfArms': {'png': 'https://mainfacts.com/media/images/coats_of_arms/us.png', 'svg': 'https://mainfacts.com/media/images/coats_of_arms/us.svg'}, 'startOfWeek': 'sunday', 'capitalInfo': {'latlng': [38.89, -77.05]}, 'postalCode': {'format': '#####-####', 'regex': '^\\\\d{5}(-\\\\d{4})?$'}}]\n"
     ]
    }
   ],
   "source": [
    "import functools\n",
    "import requests\n",
    "\n",
    "@functools.lru_cache(maxsize=100)\n",
    "def get_country_info(country_code):\n",
    "    print(f\"Fetching info for {country_code}\")\n",
    "    response = requests.get(f\"https://restcountries.com/v3.1/alpha/{country_code}\")\n",
    "    return response.json()\n",
    "\n",
    "# Usage\n",
    "print(get_country_info(\"us\") ) # Hits API\n"
   ]
  },
  {
   "cell_type": "code",
   "execution_count": null,
   "id": "c3d43329",
   "metadata": {},
   "outputs": [
    {
     "name": "stdout",
     "output_type": "stream",
     "text": [
      "[{'name': {'common': 'United States', 'official': 'United States of America', 'nativeName': {'eng': {'official': 'United States of America', 'common': 'United States'}}}, 'tld': ['.us'], 'cca2': 'US', 'ccn3': '840', 'cioc': 'USA', 'independent': True, 'status': 'officially-assigned', 'unMember': True, 'currencies': {'USD': {'symbol': '$', 'name': 'United States dollar'}}, 'idd': {'root': '+1', 'suffixes': ['201', '202', '203', '205', '206', '207', '208', '209', '210', '212', '213', '214', '215', '216', '217', '218', '219', '220', '224', '225', '227', '228', '229', '231', '234', '239', '240', '248', '251', '252', '253', '254', '256', '260', '262', '267', '269', '270', '272', '274', '276', '281', '283', '301', '302', '303', '304', '305', '307', '308', '309', '310', '312', '313', '314', '315', '316', '317', '318', '319', '320', '321', '323', '325', '327', '330', '331', '334', '336', '337', '339', '346', '347', '351', '352', '360', '361', '364', '380', '385', '386', '401', '402', '404', '405', '406', '407', '408', '409', '410', '412', '413', '414', '415', '417', '419', '423', '424', '425', '430', '432', '434', '435', '440', '442', '443', '447', '458', '463', '464', '469', '470', '475', '478', '479', '480', '484', '501', '502', '503', '504', '505', '507', '508', '509', '510', '512', '513', '515', '516', '517', '518', '520', '530', '531', '534', '539', '540', '541', '551', '559', '561', '562', '563', '564', '567', '570', '571', '573', '574', '575', '580', '585', '586', '601', '602', '603', '605', '606', '607', '608', '609', '610', '612', '614', '615', '616', '617', '618', '619', '620', '623', '626', '628', '629', '630', '631', '636', '641', '646', '650', '651', '657', '660', '661', '662', '667', '669', '678', '681', '682', '701', '702', '703', '704', '706', '707', '708', '712', '713', '714', '715', '716', '717', '718', '719', '720', '724', '725', '727', '730', '731', '732', '734', '737', '740', '743', '747', '754', '757', '760', '762', '763', '765', '769', '770', '772', '773', '774', '775', '779', '781', '785', '786', '801', '802', '803', '804', '805', '806', '808', '810', '812', '813', '814', '815', '816', '817', '818', '828', '830', '831', '832', '843', '845', '847', '848', '850', '854', '856', '857', '858', '859', '860', '862', '863', '864', '865', '870', '872', '878', '901', '903', '904', '906', '907', '908', '909', '910', '912', '913', '914', '915', '916', '917', '918', '919', '920', '925', '928', '929', '930', '931', '934', '936', '937', '938', '940', '941', '947', '949', '951', '952', '954', '956', '959', '970', '971', '972', '973', '975', '978', '979', '980', '984', '985', '989']}, 'capital': ['Washington, D.C.'], 'altSpellings': ['US', 'USA', 'United States of America'], 'region': 'Americas', 'subregion': 'North America', 'languages': {'eng': 'English'}, 'latlng': [38.0, -97.0], 'landlocked': False, 'borders': ['CAN', 'MEX'], 'area': 9372610.0, 'demonyms': {'eng': {'f': 'American', 'm': 'American'}, 'fra': {'f': 'Américaine', 'm': 'Américain'}}, 'cca3': 'USA', 'translations': {'ara': {'official': 'الولايات المتحدة الامريكية', 'common': 'الولايات المتحدة'}, 'bre': {'official': 'Stadoù-Unanet Amerika', 'common': 'Stadoù-Unanet'}, 'ces': {'official': 'Spojené státy americké', 'common': 'Spojené státy'}, 'cym': {'official': 'United States of America', 'common': 'United States'}, 'deu': {'official': 'Vereinigte Staaten von Amerika', 'common': 'Vereinigte Staaten'}, 'est': {'official': 'Ameerika Ühendriigid', 'common': 'Ameerika Ühendriigid'}, 'fin': {'official': 'Amerikan yhdysvallat', 'common': 'Yhdysvallat'}, 'fra': {'official': \"Les états-unis d'Amérique\", 'common': 'États-Unis'}, 'hrv': {'official': 'Sjedinjene Države Amerike', 'common': 'Sjedinjene Američke Države'}, 'hun': {'official': 'Amerikai Egyesült Államok', 'common': 'Amerikai Egyesült Államok'}, 'ind': {'official': 'Amerika Serikat', 'common': 'Amerika'}, 'ita': {'official': \"Stati Uniti d'America\", 'common': \"Stati Uniti d'America\"}, 'jpn': {'official': 'アメリカ合衆国', 'common': 'アメリカ合衆国'}, 'kor': {'official': '아메리카 합중국', 'common': '미국'}, 'nld': {'official': 'Verenigde Staten van Amerika', 'common': 'Verenigde Staten'}, 'per': {'official': 'ایالات متحده آمریکا', 'common': 'ایالات متحده آمریکا'}, 'pol': {'official': 'Stany Zjednoczone Ameryki', 'common': 'Stany Zjednoczone'}, 'por': {'official': 'Estados Unidos da América', 'common': 'Estados Unidos'}, 'rus': {'official': 'Соединенные Штаты Америки', 'common': 'Соединённые Штаты Америки'}, 'slk': {'official': 'Spojené štáty Americké', 'common': 'Spojené štáty americké'}, 'spa': {'official': 'Estados Unidos de América', 'common': 'Estados Unidos'}, 'srp': {'official': 'Сједињене Америчке Државе', 'common': 'Сједињене Америчке Државе'}, 'swe': {'official': 'Amerikas förenta stater', 'common': 'USA'}, 'tur': {'official': 'Amerika Birleşik Devletleri', 'common': 'Amerika Birleşik Devletleri'}, 'urd': {'official': 'ریاستہائے متحدہ امریکا', 'common': 'ریاستہائے متحدہ'}, 'zho': {'official': '美利坚合众国', 'common': '美国'}}, 'flag': '🇺🇸', 'maps': {'googleMaps': 'https://goo.gl/maps/e8M246zY4BSjkjAv6', 'openStreetMaps': 'https://www.openstreetmap.org/relation/148838#map=2/20.6/-85.8'}, 'population': 329484123, 'gini': {'2018': 41.4}, 'fifa': 'USA', 'car': {'signs': ['USA'], 'side': 'right'}, 'timezones': ['UTC-12:00', 'UTC-11:00', 'UTC-10:00', 'UTC-09:00', 'UTC-08:00', 'UTC-07:00', 'UTC-06:00', 'UTC-05:00', 'UTC-04:00', 'UTC+10:00', 'UTC+12:00'], 'continents': ['North America'], 'flags': {'png': 'https://flagcdn.com/w320/us.png', 'svg': 'https://flagcdn.com/us.svg', 'alt': 'The flag of the United States of America is composed of thirteen equal horizontal bands of red alternating with white. A blue rectangle, bearing fifty small five-pointed white stars arranged in nine rows where rows of six stars alternate with rows of five stars, is superimposed in the canton.'}, 'coatOfArms': {'png': 'https://mainfacts.com/media/images/coats_of_arms/us.png', 'svg': 'https://mainfacts.com/media/images/coats_of_arms/us.svg'}, 'startOfWeek': 'sunday', 'capitalInfo': {'latlng': [38.89, -77.05]}, 'postalCode': {'format': '#####-####', 'regex': '^\\\\d{5}(-\\\\d{4})?$'}}]\n"
     ]
    }
   ],
   "source": [
    "print(get_country_info(\"us\"))  # Returns cached result"
   ]
  },
  {
   "cell_type": "code",
   "execution_count": 14,
   "id": "5d95b01e",
   "metadata": {},
   "outputs": [
    {
     "name": "stdout",
     "output_type": "stream",
     "text": [
      "Filtering department: sales\n"
     ]
    }
   ],
   "source": [
    "import functools\n",
    "import pandas as pd\n",
    "\n",
    "# Load big dataset once\n",
    "df = pd.DataFrame({\n",
    "    \"id\": [1, 2, 3, 4, 5],\n",
    "    \"department\": [\"sales\", \"engineering\", \"sales\", \"hr\", \"engineering\"]\n",
    "})\n",
    "\n",
    "@functools.lru_cache(maxsize=32)\n",
    "def get_department_employees(department):\n",
    "    print(f\"Filtering department: {department}\")\n",
    "    return df[df[\"department\"] == department]\n",
    "\n",
    "# Usage\n",
    "sales = get_department_employees(\"sales\")  # Computes\n",
    "sales_again = get_department_employees(\"sales\")  # Cached"
   ]
  },
  {
   "cell_type": "code",
   "execution_count": null,
   "id": "6944e61c",
   "metadata": {},
   "outputs": [],
   "source": [
    "from collections import OrderedDict\n",
    "from functools import wraps\n",
    "\n",
    "def lru_cache(maxsize=128):\n",
    "    def decorator(func):\n",
    "        cache = OrderedDict()\n",
    "\n",
    "        @wraps(func)\n",
    "        def wrapper(*args):\n",
    "            if args in cache:\n",
    "                cache.move_to_end(args)  \n",
    "                return cache[args]\n",
    "            result = func(*args)\n",
    "            cache[args] = result\n",
    "            if len(cache) > maxsize:\n",
    "                cache.popitem(last=False) \n",
    "            return result\n",
    "\n",
    "        return wrapper\n",
    "    return decorator\n"
   ]
  },
  {
   "cell_type": "markdown",
   "id": "3e378599",
   "metadata": {},
   "source": [
    "## functools.wrap\n",
    "\n",
    "the original_func becomes a new function (wrapper). But without @wraps, you lose:\n",
    "\n",
    "__name__\n",
    "\n",
    "__doc__\n",
    "\n",
    "__annotations__\n",
    "\n",
    "__module__\n"
   ]
  },
  {
   "cell_type": "code",
   "execution_count": null,
   "id": "940522f3",
   "metadata": {},
   "outputs": [
    {
     "name": "stdout",
     "output_type": "stream",
     "text": [
      "wrapper\n",
      "None\n"
     ]
    }
   ],
   "source": [
    "def decorator(func):\n",
    "    def wrapper(*args, **kwargs):\n",
    "        return func(*args, **kwargs)\n",
    "    return wrapper\n",
    "\n",
    "@decorator\n",
    "def greet():\n",
    "    \"\"\"Say hello\"\"\"\n",
    "    print(\"Hello\")\n",
    "\n",
    "print(greet.__name__) \n",
    "print(greet.__doc__)  "
   ]
  },
  {
   "cell_type": "code",
   "execution_count": 2,
   "id": "2a8475bd",
   "metadata": {},
   "outputs": [
    {
     "name": "stdout",
     "output_type": "stream",
     "text": [
      "greet\n",
      "Say hello\n"
     ]
    }
   ],
   "source": [
    "from functools import wraps\n",
    "\n",
    "def decorator(func):\n",
    "    @wraps(func)\n",
    "    def wrapper(*args, **kwargs):\n",
    "        return func(*args, **kwargs)\n",
    "    return wrapper\n",
    "\n",
    "@decorator\n",
    "def greet():\n",
    "    \"\"\"Say hello\"\"\"\n",
    "    print(\"Hello\")\n",
    "\n",
    "print(greet.__name__)  \n",
    "print(greet.__doc__)"
   ]
  },
  {
   "cell_type": "markdown",
   "id": "fb57b86b",
   "metadata": {},
   "source": [
    "## Function singledispatch\n",
    "If you decorate a plain func‐\n",
    "tion with @singledispatch, it becomes the entry point for a generic function: a group\n",
    "of functions to perform the same operation in different ways, depending on the type\n",
    "of the first argument."
   ]
  },
  {
   "cell_type": "code",
   "execution_count": 1,
   "id": "f36dbec0",
   "metadata": {},
   "outputs": [
    {
     "name": "stdout",
     "output_type": "stream",
     "text": [
      "Logging JSON: {\"user\": \"Alice\", \"action\": \"login\"}\n",
      "Logging plain string: System started\n",
      "Logging error: ValueError - Invalid input\n"
     ]
    }
   ],
   "source": [
    "from functools import singledispatch\n",
    "import json\n",
    "\n",
    "@singledispatch\n",
    "def log_data(data):\n",
    "    raise NotImplementedError(\"Unsupported data type\")\n",
    "\n",
    "@log_data.register\n",
    "def _(data: dict):\n",
    "    return \"Logging JSON: \" + json.dumps(data)\n",
    "\n",
    "@log_data.register\n",
    "def _(data: str):\n",
    "    return f\"Logging plain string: {data}\"\n",
    "\n",
    "@log_data.register\n",
    "def _(data: Exception):\n",
    "    return f\"Logging error: {type(data).__name__} - {data}\"\n",
    "\n",
    "# Usage\n",
    "print(log_data({\"user\": \"Alice\", \"action\": \"login\"}))\n",
    "print(log_data(\"System started\"))\n",
    "print(log_data(ValueError(\"Invalid input\")))\n"
   ]
  },
  {
   "cell_type": "markdown",
   "id": "8146e3d2",
   "metadata": {},
   "source": [
    "## functools.cached_property\n",
    "Transform a method of a class into a property whose value is computed once and then cached as a normal attribute for the life of the instance. Similar to property(), with the addition of caching."
   ]
  },
  {
   "cell_type": "code",
   "execution_count": null,
   "id": "71bccc1a",
   "metadata": {},
   "outputs": [],
   "source": [
    "from functools import cached_property\n",
    "import statistics\n",
    "class DataSet:\n",
    "\n",
    "    def __init__(self, sequence_of_numbers):\n",
    "        self._data = tuple(sequence_of_numbers)\n",
    "\n",
    "    @cached_property\n",
    "    def stdev(self):\n",
    "        return statistics.stdev(self._data)"
   ]
  },
  {
   "cell_type": "markdown",
   "id": "62a72f3b",
   "metadata": {},
   "source": [
    "## functools.property\n",
    "A property object has getter, setter, and deleter methods usable as decorators that create a copy of the property with the corresponding accessor function set to the decorated function."
   ]
  },
  {
   "cell_type": "code",
   "execution_count": 3,
   "id": "d93a6004",
   "metadata": {},
   "outputs": [
    {
     "data": {
      "text/plain": [
       "45000.0"
      ]
     },
     "execution_count": 3,
     "metadata": {},
     "output_type": "execute_result"
    }
   ],
   "source": [
    "class House:\n",
    "\n",
    "    def __init__(self, price):\n",
    "        self._price = price\n",
    "\n",
    "    @property\n",
    "    def price(self):\n",
    "        return self._price\n",
    "\n",
    "    @price.setter\n",
    "    def price(self, new_price):\n",
    "        if new_price > 0 and isinstance(new_price, float):\n",
    "            self._price = new_price\n",
    "        else:\n",
    "            print(\"Please enter a valid price\")\n",
    "\n",
    "    @price.deleter\n",
    "    def price(self):\n",
    "        del self._price\n",
    "\n",
    "house = House(50000.0)  # Create instance\n",
    "house.price = 45000.0   # Update value\n",
    "house.price "
   ]
  },
  {
   "cell_type": "markdown",
   "id": "d3ffb291",
   "metadata": {},
   "source": []
  }
 ],
 "metadata": {
  "kernelspec": {
   "display_name": "base",
   "language": "python",
   "name": "python3"
  },
  "language_info": {
   "codemirror_mode": {
    "name": "ipython",
    "version": 3
   },
   "file_extension": ".py",
   "mimetype": "text/x-python",
   "name": "python",
   "nbconvert_exporter": "python",
   "pygments_lexer": "ipython3",
   "version": "3.13.5"
  }
 },
 "nbformat": 4,
 "nbformat_minor": 5
}
