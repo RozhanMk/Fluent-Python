{
 "cells": [
  {
   "cell_type": "markdown",
   "id": "fbf1fc37",
   "metadata": {},
   "source": [
    "A decorator is a callable that takes another function as an argument (the decorated\n",
    " function).\n",
    " A decorator may perform some processing with the decorated function, and returns\n",
    " it or replaces it with another function or callable object."
   ]
  },
  {
   "cell_type": "code",
   "execution_count": null,
   "id": "8f686bcd",
   "metadata": {},
   "outputs": [],
   "source": []
  }
 ],
 "metadata": {
  "language_info": {
   "name": "python"
  }
 },
 "nbformat": 4,
 "nbformat_minor": 5
}
